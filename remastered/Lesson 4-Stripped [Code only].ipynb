{
 "cells": [
  {
   "cell_type": "code",
   "execution_count": 1,
   "id": "e20f6754",
   "metadata": {},
   "outputs": [],
   "source": [
    "%load_ext autoreload\n",
    "%autoreload 2\n",
    "%matplotlib inline"
   ]
  },
  {
   "cell_type": "code",
   "execution_count": 2,
   "id": "630fd9eb",
   "metadata": {},
   "outputs": [],
   "source": [
    "# from fastai.imports import *\n",
    "# from fastai.torch_imports import *\n",
    "# from fastai.io import *"
   ]
  },
  {
   "cell_type": "code",
   "execution_count": 3,
   "id": "890fed41-6b45-471e-b726-a5a5772a9579",
   "metadata": {},
   "outputs": [
    {
     "name": "stdout",
     "output_type": "stream",
     "text": [
      "matplotlib:  3.4.3\n",
      "tqdm:  4.62.2\n",
      "torch:  1.10.0\n",
      "numpy:  1.21.2\n"
     ]
    }
   ],
   "source": [
    "# Library versions\n",
    "\n",
    "import matplotlib\n",
    "import tqdm\n",
    "import torch\n",
    "import numpy\n",
    "\n",
    "print(f'matplotlib: ', matplotlib.__version__)\n",
    "print(f'tqdm: ', tqdm.__version__)\n",
    "print(f'torch: ', torch.__version__)\n",
    "print(f'numpy: ', numpy.__version__)"
   ]
  },
  {
   "cell_type": "code",
   "execution_count": 4,
   "id": "51bbc2c1",
   "metadata": {},
   "outputs": [],
   "source": [
    "from tqdm.notebook import tnrange, tqdm\n",
    "from urllib.request import urlretrieve\n",
    "import pickle\n",
    "import gzip\n",
    "import numpy as np\n",
    "import matplotlib.pyplot as plt\n",
    "\n",
    "from abc import abstractmethod\n",
    "from collections.abc import Iterable\n",
    "import collections\n",
    "\n",
    "from concurrent.futures.thread import ThreadPoolExecutor\n",
    "\n",
    "import torch\n",
    "from torch._six import string_classes\n",
    "from distutils.version import LooseVersion"
   ]
  },
  {
   "cell_type": "code",
   "execution_count": 5,
   "id": "86d61404",
   "metadata": {},
   "outputs": [
    {
     "name": "stdout",
     "output_type": "stream",
     "text": [
      "total 1520\n",
      "-rw-r--r--  1 ravimashru  staff  132209 Oct 13 16:48 Lesson 1-Stripped [Code only].ipynb\n",
      "-rw-r--r--  1 ravimashru  staff   52614 Oct 13 16:48 Lesson 2-Stripped[Code only].ipynb\n",
      "-rw-r--r--  1 ravimashru  staff  142126 Oct 26 13:56 Lesson 4-Stripped [Code only].ipynb\n",
      "-rw-r--r--  1 ravimashru  staff   85228 Oct 26 13:29 Lesson 5-Stripped [Code Only].ipynb\n",
      "drwxr-xr-x  3 ravimashru  staff      96 Oct 26 13:39 \u001b[1m\u001b[36mdata\u001b[m\u001b[m/\n",
      "-rw-r--r--  1 ravimashru  staff  359011 Oct 26 13:29 lesson3_rf_foundations_remastered.ipynb\n"
     ]
    }
   ],
   "source": [
    "ls -l"
   ]
  },
  {
   "cell_type": "code",
   "execution_count": 6,
   "id": "643614d2",
   "metadata": {},
   "outputs": [],
   "source": [
    "path = 'data/mnist/'"
   ]
  },
  {
   "cell_type": "code",
   "execution_count": 7,
   "id": "eb9190fd",
   "metadata": {},
   "outputs": [],
   "source": [
    "import os\n",
    "os.makedirs(path, exist_ok=True)"
   ]
  },
  {
   "cell_type": "code",
   "execution_count": 8,
   "id": "d04b46d0",
   "metadata": {},
   "outputs": [],
   "source": [
    "# URL='http://deeplearning.net/data/mnist/'\n",
    "URL='https://figshare.com/ndownloader/files/25635053'\n",
    "FILENAME='mnist.pkl.gz'\n",
    "\n",
    "def load_mnist(filename):\n",
    "    return pickle.load(gzip.open(filename, 'rb'), encoding='latin-1')"
   ]
  },
  {
   "cell_type": "code",
   "execution_count": 9,
   "id": "50cb829a",
   "metadata": {},
   "outputs": [],
   "source": [
    "# from fastai/io.py\n",
    "def get_data(url, filename):\n",
    "    if not os.path.exists(filename):\n",
    "\n",
    "        dirname = os.path.dirname(filename)\n",
    "        if not os.path.exists(dirname):\n",
    "            os.makedirs(dirname)\n",
    "\n",
    "        with TqdmUpTo(unit='B', unit_scale=True, miniters=1, desc=url.split('/')[-1]) as t:\n",
    "            urlretrieve(url, filename, reporthook=t.update_to)\n",
    "            \n",
    "            \n",
    "# Docstring:     \n",
    "# Decorate an iterable object, returning an iterator which acts exactly\n",
    "# like the original iterable, but prints a dynamically updating\n",
    "# progressbar every time a value is requested.\n",
    "# Source:        \n",
    "class TqdmUpTo(tqdm):\n",
    "    def update_to(self, b=1, bsize=1, tsize=None):\n",
    "        if tsize is not None: self.total = tsize\n",
    "        self.update(b * bsize - self.n)"
   ]
  },
  {
   "cell_type": "code",
   "execution_count": 10,
   "id": "18218a07",
   "metadata": {},
   "outputs": [],
   "source": [
    "# get_data(URL+FILENAME, path+FILENAME)\n",
    "get_data(URL, path+FILENAME)\n",
    "((x, y), (x_valid, y_valid), _) = load_mnist(path+FILENAME)"
   ]
  },
  {
   "cell_type": "code",
   "execution_count": 11,
   "id": "5ea1a65c",
   "metadata": {},
   "outputs": [
    {
     "data": {
      "text/plain": [
       "(numpy.ndarray, (50000, 784), numpy.ndarray, (50000,))"
      ]
     },
     "execution_count": 11,
     "metadata": {},
     "output_type": "execute_result"
    }
   ],
   "source": [
    "type(x), x.shape, type(y), y.shape"
   ]
  },
  {
   "cell_type": "code",
   "execution_count": 12,
   "id": "4bbe5b08",
   "metadata": {},
   "outputs": [
    {
     "data": {
      "text/plain": [
       "(numpy.ndarray, (10000, 784), numpy.ndarray, (10000,))"
      ]
     },
     "execution_count": 12,
     "metadata": {},
     "output_type": "execute_result"
    }
   ],
   "source": [
    "type(x_valid), x_valid.shape, type(y_valid), y_valid.shape"
   ]
  },
  {
   "cell_type": "code",
   "execution_count": 13,
   "id": "efd0132c",
   "metadata": {},
   "outputs": [
    {
     "data": {
      "text/plain": [
       "(0.13044983, 0.3072898, -3.1638146e-07, 0.99999934)"
      ]
     },
     "execution_count": 13,
     "metadata": {},
     "output_type": "execute_result"
    }
   ],
   "source": [
    "mean = x.mean()\n",
    "std = x.std()\n",
    "\n",
    "x=(x-mean)/std\n",
    "mean, std, x.mean(), x.std()"
   ]
  },
  {
   "cell_type": "code",
   "execution_count": 14,
   "id": "1d329e4d",
   "metadata": {},
   "outputs": [
    {
     "data": {
      "text/plain": [
       "(-0.005850922, 0.99243325)"
      ]
     },
     "execution_count": 14,
     "metadata": {},
     "output_type": "execute_result"
    }
   ],
   "source": [
    "x_valid = (x_valid-mean)/std\n",
    "x_valid.mean(), x_valid.std()"
   ]
  },
  {
   "cell_type": "code",
   "execution_count": 15,
   "id": "9a40429a",
   "metadata": {},
   "outputs": [],
   "source": [
    "def show(img, title=None):\n",
    "    plt.imshow(img, cmap=\"gray\")\n",
    "    if title is not None: plt.title(title)"
   ]
  },
  {
   "cell_type": "code",
   "execution_count": 16,
   "id": "ee8bcdf4",
   "metadata": {},
   "outputs": [],
   "source": [
    "def plots(ims, figsize=(12,6), rows=2, titles=None):\n",
    "    f = plt.figure(figsize=figsize)\n",
    "    cols = len(ims)//rows\n",
    "    for i in range(len(ims)):\n",
    "        sp = f.add_subplot(rows, cols, i+1)\n",
    "        sp.axis('Off')\n",
    "        if titles is not None: sp.set_title(titles[i], fontsize=16)\n",
    "        plt.imshow(ims[i], cmap='gray')"
   ]
  },
  {
   "cell_type": "code",
   "execution_count": 17,
   "id": "5afec677",
   "metadata": {},
   "outputs": [
    {
     "data": {
      "text/plain": [
       "(10000, 784)"
      ]
     },
     "execution_count": 17,
     "metadata": {},
     "output_type": "execute_result"
    }
   ],
   "source": [
    "x_valid.shape"
   ]
  },
  {
   "cell_type": "code",
   "execution_count": 18,
   "id": "75513993",
   "metadata": {},
   "outputs": [
    {
     "data": {
      "text/plain": [
       "(10000, 28, 28)"
      ]
     },
     "execution_count": 18,
     "metadata": {},
     "output_type": "execute_result"
    }
   ],
   "source": [
    "x_imgs = np.reshape(x_valid, (-1,28,28)); x_imgs.shape"
   ]
  },
  {
   "cell_type": "code",
   "execution_count": 19,
   "id": "5daaa033",
   "metadata": {},
   "outputs": [
    {
     "data": {
      "image/png": "[encoded data removed]",
      "text/plain": [
       "<Figure size 432x288 with 1 Axes>"
      ]
     },
     "metadata": {
      "needs_background": "light"
     },
     "output_type": "display_data"
    }
   ],
   "source": [
    "show(x_imgs[0], y_valid[0])"
   ]
  },
  {
   "cell_type": "code",
   "execution_count": 20,
   "id": "2ed3a7c5",
   "metadata": {},
   "outputs": [
    {
     "data": {
      "text/plain": [
       "(10000,)"
      ]
     },
     "execution_count": 20,
     "metadata": {},
     "output_type": "execute_result"
    }
   ],
   "source": [
    "y_valid.shape"
   ]
  },
  {
   "cell_type": "code",
   "execution_count": 21,
   "id": "f84a7df8",
   "metadata": {},
   "outputs": [
    {
     "data": {
      "text/plain": [
       "3"
      ]
     },
     "execution_count": 21,
     "metadata": {},
     "output_type": "execute_result"
    }
   ],
   "source": [
    "y_valid[0]"
   ]
  },
  {
   "cell_type": "code",
   "execution_count": 22,
   "id": "8ec6223d",
   "metadata": {},
   "outputs": [
    {
     "data": {
      "text/plain": [
       "array([[-0.42451727, -0.42451727, -0.42451727, -0.42451727,  0.17294396],\n",
       "       [-0.42451727, -0.42451727, -0.42451727,  0.7831172 ,  2.4356694 ],\n",
       "       [-0.42451727, -0.27197397,  1.2026112 ,  2.778892  ,  2.8043158 ],\n",
       "       [-0.42451727,  1.7619367 ,  2.8043158 ,  2.8043158 ,  1.7365128 ],\n",
       "       [-0.42451727,  2.2068546 ,  2.8043158 ,  2.8043158 ,  0.4017589 ]],\n",
       "      dtype=float32)"
      ]
     },
     "execution_count": 22,
     "metadata": {},
     "output_type": "execute_result"
    }
   ],
   "source": [
    "x_imgs[0,10:15,10:15]"
   ]
  },
  {
   "cell_type": "code",
   "execution_count": 23,
   "id": "ab6970f8",
   "metadata": {},
   "outputs": [
    {
     "data": {
      "image/png": "[encoded data removed]",
      "text/plain": [
       "<Figure size 432x288 with 1 Axes>"
      ]
     },
     "metadata": {
      "needs_background": "light"
     },
     "output_type": "display_data"
    }
   ],
   "source": [
    "show(x_imgs[0,10:15,10:15])"
   ]
  },
  {
   "cell_type": "code",
   "execution_count": 24,
   "id": "1cd30d35",
   "metadata": {},
   "outputs": [
    {
     "data": {
      "image/png": "[encoded data removed]",
      "text/plain": [
       "<Figure size 864x432 with 8 Axes>"
      ]
     },
     "metadata": {
      "needs_background": "light"
     },
     "output_type": "display_data"
    }
   ],
   "source": [
    "plots(x_imgs[:8], titles=y_valid[:8])"
   ]
  },
  {
   "cell_type": "code",
   "execution_count": 25,
   "id": "29a319f3",
   "metadata": {},
   "outputs": [],
   "source": [
    "# from fastai.metrics import *\n",
    "# from fastai.model import *\n",
    "# from fastai.dataset import *\n",
    "\n",
    "import torch.nn as nn\n",
    "from torch.utils.data import Dataset\n",
    "from torch.utils.data.sampler import SequentialSampler, RandomSampler, BatchSampler\n",
    "from torch import optim"
   ]
  },
  {
   "cell_type": "code",
   "execution_count": 26,
   "id": "24b96ac7",
   "metadata": {},
   "outputs": [],
   "source": [
    "net = nn.Sequential(\n",
    "    nn.Linear(28*28, 100),\n",
    "    nn.ReLU(),\n",
    "    nn.Linear(100, 100),\n",
    "    nn.ReLU(),\n",
    "    nn.Linear(100, 10),\n",
    "    nn.LogSoftmax(dim=1)\n",
    ").cuda()"
   ]
  },
  {
   "cell_type": "code",
   "execution_count": 27,
   "id": "d9ad2164",
   "metadata": {},
   "outputs": [],
   "source": [
    "# from fastai/dataset.py\n",
    "\n",
    "class BaseDataset(Dataset):\n",
    "    \"\"\"An abstract class representing a fastai dataset, it extends torch.utils.data.Dataset.\"\"\"\n",
    "    def __init__(self, transform=None):\n",
    "        self.transform = transform\n",
    "        self.n = self.get_n()\n",
    "        self.c = self.get_c()\n",
    "        self.sz = self.get_sz()\n",
    "\n",
    "    def get1item(self, idx):\n",
    "        x,y = self.get_x(idx),self.get_y(idx)\n",
    "        return self.get(self.transform, x, y)\n",
    "\n",
    "    def __getitem__(self, idx):\n",
    "        if isinstance(idx,slice):\n",
    "            xs,ys = zip(*[self.get1item(i) for i in range(*idx.indices(self.n))])\n",
    "            return np.stack(xs),ys\n",
    "        return self.get1item(idx)\n",
    "\n",
    "    def __len__(self): return self.n\n",
    "\n",
    "    def get(self, tfm, x, y):\n",
    "        return (x,y) if tfm is None else tfm(x,y)\n",
    "\n",
    "    @abstractmethod\n",
    "    def get_n(self):\n",
    "        \"\"\"Return number of elements in the dataset == len(self).\"\"\"\n",
    "        raise NotImplementedError\n",
    "\n",
    "    @abstractmethod\n",
    "    def get_c(self):\n",
    "        \"\"\"Return number of classes in a dataset.\"\"\"\n",
    "        raise NotImplementedError\n",
    "\n",
    "    @abstractmethod\n",
    "    def get_sz(self):\n",
    "        \"\"\"Return maximum size of an image in a dataset.\"\"\"\n",
    "        raise NotImplementedError\n",
    "\n",
    "    @abstractmethod\n",
    "    def get_x(self, i):\n",
    "        \"\"\"Return i-th example (image, wav, etc).\"\"\"\n",
    "        raise NotImplementedError\n",
    "\n",
    "    @abstractmethod\n",
    "    def get_y(self, i):\n",
    "        \"\"\"Return i-th label.\"\"\"\n",
    "        raise NotImplementedError\n",
    "\n",
    "    @property\n",
    "    def is_multi(self):\n",
    "        \"\"\"Returns true if this data set contains multiple labels per sample.\"\"\"\n",
    "        return False\n",
    "\n",
    "    @property\n",
    "    def is_reg(self):\n",
    "        \"\"\"True if the data set is used to train regression models.\"\"\"\n",
    "        return False\n",
    "\n",
    "class ArraysDataset(BaseDataset):\n",
    "    def __init__(self, x, y, transform):\n",
    "        self.x,self.y=x,y\n",
    "        assert(len(x)==len(y))\n",
    "        super().__init__(transform)\n",
    "    def get_x(self, i): return self.x[i]\n",
    "    def get_y(self, i): return self.y[i]\n",
    "    def get_n(self): return len(self.y)\n",
    "    def get_sz(self): return self.x.shape[1]\n",
    "\n",
    "class ArraysIndexDataset(ArraysDataset):\n",
    "    def get_c(self): return int(self.y.max())+1\n",
    "    def get_y(self, i): return self.y[i]\n",
    "\n",
    "class ModelData():\n",
    "    def __init__(self, path, trn_dl, val_dl, test_dl=None):\n",
    "        self.path,self.trn_dl,self.val_dl,self.test_dl = path,trn_dl,val_dl,test_dl\n",
    "\n",
    "    @classmethod\n",
    "    def from_dls(cls, path,trn_dl,val_dl,test_dl=None):\n",
    "        #trn_dl,val_dl = DataLoader(trn_dl),DataLoader(val_dl)\n",
    "        #if test_dl: test_dl = DataLoader(test_dl)\n",
    "        return cls(path, trn_dl, val_dl, test_dl)\n",
    "\n",
    "    @property\n",
    "    def is_reg(self): return self.trn_ds.is_reg\n",
    "    @property\n",
    "    def is_multi(self): return self.trn_ds.is_multi\n",
    "    @property\n",
    "    def trn_ds(self): return self.trn_dl.dataset\n",
    "    @property\n",
    "    def val_ds(self): return self.val_dl.dataset\n",
    "    @property\n",
    "    def test_ds(self): return self.test_dl.dataset\n",
    "    @property\n",
    "    def trn_y(self): return self.trn_ds.y\n",
    "    @property\n",
    "    def val_y(self): return self.val_ds.y\n",
    "\n",
    "class ImageData(ModelData):\n",
    "    def __init__(self, path, datasets, bs, num_workers, classes):\n",
    "        trn_ds,val_ds,fix_ds,aug_ds,test_ds,test_aug_ds = datasets\n",
    "        self.path,self.bs,self.num_workers,self.classes = path,bs,num_workers,classes\n",
    "        self.trn_dl,self.val_dl,self.fix_dl,self.aug_dl,self.test_dl,self.test_aug_dl = [\n",
    "            self.get_dl(ds,shuf) for ds,shuf in [\n",
    "                (trn_ds,True),(val_ds,False),(fix_ds,False),(aug_ds,False),\n",
    "                (test_ds,False),(test_aug_ds,False)\n",
    "            ]\n",
    "        ]\n",
    "\n",
    "    def get_dl(self, ds, shuffle):\n",
    "        if ds is None: return None\n",
    "        return DataLoader(ds, batch_size=self.bs, shuffle=shuffle,\n",
    "            num_workers=self.num_workers, pin_memory=False)\n",
    "\n",
    "    @property\n",
    "    def sz(self): return self.trn_ds.sz\n",
    "    @property\n",
    "    def c(self): return self.trn_ds.c\n",
    "\n",
    "    def resized(self, dl, targ, new_path):\n",
    "        return dl.dataset.resize_imgs(targ,new_path) if dl else None\n",
    "\n",
    "    def resize(self, targ_sz, new_path='tmp'):\n",
    "        new_ds = []\n",
    "        dls = [self.trn_dl,self.val_dl,self.fix_dl,self.aug_dl]\n",
    "        if self.test_dl: dls += [self.test_dl, self.test_aug_dl]\n",
    "        else: dls += [None,None]\n",
    "        t = tqdm_notebook(dls)\n",
    "        for dl in t: new_ds.append(self.resized(dl, targ_sz, new_path))\n",
    "        t.close()\n",
    "        return self.__class__(new_ds[0].path, new_ds, self.bs, self.num_workers, self.classes)\n",
    "\n",
    "    @staticmethod\n",
    "    def get_ds(fn, trn, val, tfms, test=None, **kwargs):\n",
    "        res = [\n",
    "            fn(trn[0], trn[1], tfms[0], **kwargs), # train\n",
    "            fn(val[0], val[1], tfms[1], **kwargs), # val\n",
    "            fn(trn[0], trn[1], tfms[1], **kwargs), # fix\n",
    "            fn(val[0], val[1], tfms[0], **kwargs)  # aug\n",
    "        ]\n",
    "        if test is not None:\n",
    "            if isinstance(test, tuple):\n",
    "                test_lbls = test[1]\n",
    "                test = test[0]\n",
    "            else:\n",
    "                test_lbls = np.zeros((len(test),1))\n",
    "            res += [\n",
    "                fn(test, test_lbls, tfms[1], **kwargs), # test\n",
    "                fn(test, test_lbls, tfms[0], **kwargs)  # test_aug\n",
    "            ]\n",
    "        else: res += [None,None]\n",
    "        return res\n",
    "\n",
    "class ImageClassifierData(ImageData):\n",
    "    @classmethod\n",
    "    def from_arrays(cls, path, trn, val, bs=64, tfms=(None,None), classes=None, num_workers=4, test=None):\n",
    "        \"\"\" Read in images and their labels given as numpy arrays\n",
    "\n",
    "        Arguments:\n",
    "            path: a root path of the data (used for storing trained models, precomputed values, etc)\n",
    "            trn: a tuple of training data matrix and target label/classification array (e.g. `trn=(x,y)` where `x` has the\n",
    "                shape of `(5000, 784)` and `y` has the shape of `(5000,)`)\n",
    "            val: a tuple of validation data matrix and target label/classification array.\n",
    "            bs: batch size\n",
    "            tfms: transformations (for data augmentations). e.g. output of `tfms_from_model`\n",
    "            classes: a list of all labels/classifications\n",
    "            num_workers: a number of workers\n",
    "            test: a matrix of test data (the shape should match `trn[0]`)\n",
    "\n",
    "        Returns:\n",
    "            ImageClassifierData\n",
    "        \"\"\"\n",
    "        datasets = cls.get_ds(ArraysIndexDataset, trn, val, tfms, test=test)\n",
    "        return cls(path, datasets, bs, num_workers, classes=classes)\n",
    "\n",
    "    @classmethod\n",
    "    def from_paths(cls, path, bs=64, tfms=(None,None), trn_name='train', val_name='valid', test_name=None, test_with_labels=False, num_workers=8):\n",
    "        \"\"\" Read in images and their labels given as sub-folder names\n",
    "\n",
    "        Arguments:\n",
    "            path: a root path of the data (used for storing trained models, precomputed values, etc)\n",
    "            bs: batch size\n",
    "            tfms: transformations (for data augmentations). e.g. output of `tfms_from_model`\n",
    "            trn_name: a name of the folder that contains training images.\n",
    "            val_name:  a name of the folder that contains validation images.\n",
    "            test_name:  a name of the folder that contains test images.\n",
    "            num_workers: number of workers\n",
    "\n",
    "        Returns:\n",
    "            ImageClassifierData\n",
    "        \"\"\"\n",
    "        assert not(tfms[0] is None or tfms[1] is None), \"please provide transformations for your train and validation sets\"\n",
    "        trn,val = [folder_source(path, o) for o in (trn_name, val_name)]\n",
    "        if test_name:\n",
    "            test = folder_source(path, test_name) if test_with_labels else read_dir(path, test_name)\n",
    "        else: test = None\n",
    "        datasets = cls.get_ds(FilesIndexArrayDataset, trn, val, tfms, path=path, test=test)\n",
    "        return cls(path, datasets, bs, num_workers, classes=trn[2])\n",
    "\n",
    "    @classmethod\n",
    "    def from_csv(cls, path, folder, csv_fname, bs=64, tfms=(None,None),\n",
    "               val_idxs=None, suffix='', test_name=None, continuous=False, skip_header=True, num_workers=8):\n",
    "        \"\"\" Read in images and their labels given as a CSV file.\n",
    "\n",
    "        This method should be used when training image labels are given in an CSV file as opposed to\n",
    "        sub-directories with label names.\n",
    "\n",
    "        Arguments:\n",
    "            path: a root path of the data (used for storing trained models, precomputed values, etc)\n",
    "            folder: a name of the folder in which training images are contained.\n",
    "            csv_fname: a name of the CSV file which contains target labels.\n",
    "            bs: batch size\n",
    "            tfms: transformations (for data augmentations). e.g. output of `tfms_from_model`\n",
    "            val_idxs: index of images to be used for validation. e.g. output of `get_cv_idxs`.\n",
    "                If None, default arguments to get_cv_idxs are used.\n",
    "            suffix: suffix to add to image names in CSV file (sometimes CSV only contains the file name without file\n",
    "                    extension e.g. '.jpg' - in which case, you can set suffix as '.jpg')\n",
    "            test_name: a name of the folder which contains test images.\n",
    "            continuous: TODO\n",
    "            skip_header: skip the first row of the CSV file.\n",
    "            num_workers: number of workers\n",
    "\n",
    "        Returns:\n",
    "            ImageClassifierData\n",
    "        \"\"\"\n",
    "        assert not (tfms[0] is None or tfms[1] is None), \"please provide transformations for your train and validation sets\"\n",
    "        assert not (os.path.isabs(folder)), \"folder needs to be a relative path\"\n",
    "        fnames,y,classes = csv_source(folder, csv_fname, skip_header, suffix, continuous=continuous)\n",
    "        return cls.from_names_and_array(path, fnames, y, classes, val_idxs, test_name,\n",
    "                num_workers=num_workers, suffix=suffix, tfms=tfms, bs=bs, continuous=continuous)\n",
    "\n",
    "    @classmethod\n",
    "    def from_names_and_array(cls, path, fnames,y,classes, val_idxs=None, test_name=None,\n",
    "            num_workers=8, suffix='', tfms=(None,None), bs=64, continuous=False):\n",
    "        val_idxs = get_cv_idxs(len(fnames)) if val_idxs is None else val_idxs\n",
    "        ((val_fnames,trn_fnames),(val_y,trn_y)) = split_by_idx(val_idxs, np.array(fnames), y)\n",
    "\n",
    "        test_fnames = read_dir(path, test_name) if test_name else None\n",
    "        if continuous: f = FilesIndexArrayRegressionDataset\n",
    "        else:\n",
    "            f = FilesIndexArrayDataset if len(trn_y.shape)==1 else FilesNhotArrayDataset\n",
    "        datasets = cls.get_ds(f, (trn_fnames,trn_y), (val_fnames,val_y), tfms,\n",
    "                               path=path, test=test_fnames)\n",
    "        return cls(path, datasets, bs, num_workers, classes=classes)"
   ]
  },
  {
   "cell_type": "code",
   "execution_count": 28,
   "id": "234f8a2f",
   "metadata": {},
   "outputs": [],
   "source": [
    "# from fastai/dataloader.py\n",
    "\n",
    "class DataLoader(object):\n",
    "    def __init__(self, dataset, batch_size=1, shuffle=False, sampler=None, batch_sampler=None, pad_idx=0,\n",
    "                 num_workers=None, pin_memory=False, drop_last=False, pre_pad=True, half=False,\n",
    "                 transpose=False, transpose_y=False):\n",
    "        self.dataset,self.batch_size,self.num_workers = dataset,batch_size,num_workers\n",
    "        self.pin_memory,self.drop_last,self.pre_pad = pin_memory,drop_last,pre_pad\n",
    "        self.transpose,self.transpose_y,self.pad_idx,self.half = transpose,transpose_y,pad_idx,half\n",
    "\n",
    "        if batch_sampler is not None:\n",
    "            if batch_size > 1 or shuffle or sampler is not None or drop_last:\n",
    "                raise ValueError('batch_sampler is mutually exclusive with '\n",
    "                                 'batch_size, shuffle, sampler, and drop_last')\n",
    "\n",
    "        if sampler is not None and shuffle:\n",
    "            raise ValueError('sampler is mutually exclusive with shuffle')\n",
    "\n",
    "        if batch_sampler is None:\n",
    "            if sampler is None:\n",
    "                sampler = RandomSampler(dataset) if shuffle else SequentialSampler(dataset)\n",
    "            batch_sampler = BatchSampler(sampler, batch_size, drop_last)\n",
    "\n",
    "        if num_workers is None:\n",
    "            self.num_workers = num_cpus()\n",
    "\n",
    "        self.sampler = sampler\n",
    "        self.batch_sampler = batch_sampler\n",
    "\n",
    "    def __len__(self): return len(self.batch_sampler)\n",
    "\n",
    "    def jag_stack(self, b):\n",
    "        if len(b[0].shape) not in (1,2): return np.stack(b)\n",
    "        ml = max(len(o) for o in b)\n",
    "        if min(len(o) for o in b)==ml: return np.stack(b)\n",
    "        res = np.zeros((len(b), ml), dtype=b[0].dtype) + self.pad_idx\n",
    "        for i,o in enumerate(b):\n",
    "            if self.pre_pad: res[i, -len(o):] = o\n",
    "            else:            res[i,  :len(o)] = o\n",
    "        return res\n",
    "\n",
    "    def np_collate(self, batch):\n",
    "        b = batch[0]\n",
    "        if isinstance(b, (np.ndarray, np.generic)): return self.jag_stack(batch)\n",
    "        elif isinstance(b, (int, float)): return np.array(batch)\n",
    "        elif isinstance(b, string_classes): return batch\n",
    "        elif isinstance(b, collections.abc.Mapping):\n",
    "            return {key: self.np_collate([d[key] for d in batch]) for key in b}\n",
    "        elif isinstance(b, collections.abc.Sequence):\n",
    "            return [self.np_collate(samples) for samples in zip(*batch)]\n",
    "        raise TypeError((\"batch must contain numbers, dicts or lists; found {}\".format(type(b))))\n",
    "\n",
    "    def get_batch(self, indices):\n",
    "        res = self.np_collate([self.dataset[i] for i in indices])\n",
    "        if self.transpose:   res[0] = res[0].T\n",
    "        if self.transpose_y: res[1] = res[1].T\n",
    "        return res\n",
    "\n",
    "    def __iter__(self):\n",
    "        if self.num_workers==0:\n",
    "            for batch in map(self.get_batch, iter(self.batch_sampler)):\n",
    "                yield get_tensor(batch, self.pin_memory, self.half)\n",
    "        else:\n",
    "            with ThreadPoolExecutor(max_workers=self.num_workers) as e:\n",
    "                # avoid py3.6 issue where queue is infinite and can result in memory exhaustion\n",
    "                for c in chunk_iter(iter(self.batch_sampler), self.num_workers*10):\n",
    "                    for batch in e.map(self.get_batch, c):\n",
    "                        yield get_tensor(batch, self.pin_memory, self.half)"
   ]
  },
  {
   "cell_type": "code",
   "execution_count": 29,
   "id": "1d3115a3",
   "metadata": {},
   "outputs": [],
   "source": [
    "md = ImageClassifierData.from_arrays(path, (x,y), (x_valid, y_valid))"
   ]
  },
  {
   "cell_type": "code",
   "execution_count": 30,
   "id": "b63192eb",
   "metadata": {},
   "outputs": [],
   "source": [
    "# from fastai/metrics.py\n",
    "\n",
    "def accuracy(preds, targs):\n",
    "    preds = torch.max(preds, dim=1)[1]\n",
    "    return (preds==targs).float().mean()"
   ]
  },
  {
   "cell_type": "code",
   "execution_count": 31,
   "id": "bff92f54",
   "metadata": {},
   "outputs": [],
   "source": [
    "loss=nn.NLLLoss()\n",
    "metrics=[accuracy]\n",
    "# opt=optim.SGD(net.parameters(), 1e-1, momentum=0.9)\n",
    "opt=optim.SGD(net.parameters(), 1e-1, momentum=0.9, weight_decay=1e-3)"
   ]
  },
  {
   "cell_type": "code",
   "execution_count": 32,
   "id": "a9933c2b",
   "metadata": {},
   "outputs": [],
   "source": [
    "def binary_loss(y, p):\n",
    "    return np.mean(-(y * np.log(p) + (1-y)*np.log(1-p)))"
   ]
  },
  {
   "cell_type": "code",
   "execution_count": 33,
   "id": "fe083b8b",
   "metadata": {},
   "outputs": [
    {
     "data": {
      "text/plain": [
       "0.164252033486018"
      ]
     },
     "execution_count": 33,
     "metadata": {},
     "output_type": "execute_result"
    }
   ],
   "source": [
    "acts = np.array([1, 0, 0, 1])\n",
    "preds = np.array([0.9, 0.1, 0.2, 0.8])\n",
    "binary_loss(acts, preds)"
   ]
  },
  {
   "cell_type": "code",
   "execution_count": 34,
   "id": "4e00b0bd",
   "metadata": {},
   "outputs": [],
   "source": [
    "# from fastai/core.py\n",
    "\n",
    "def apply_leaf(m, f):\n",
    "    c = children(m)\n",
    "    if isinstance(m, nn.Module): f(m)\n",
    "    if len(c)>0:\n",
    "        for l in c: apply_leaf(l,f)"
   ]
  },
  {
   "cell_type": "code",
   "execution_count": 35,
   "id": "d29f6070",
   "metadata": {},
   "outputs": [],
   "source": [
    "# from fastai/model.py\n",
    "\n",
    "def set_train_mode(m):\n",
    "    if (hasattr(m, 'running_mean') and (getattr(m,'bn_freeze',False)\n",
    "              or not getattr(m,'trainable',False))): m.eval()\n",
    "    elif (getattr(m,'drop_freeze',False) and hasattr(m, 'p')\n",
    "          and ('drop' in type(m).__name__.lower())): m.eval()\n",
    "    else: m.train()\n",
    "\n",
    "class Stepper():\n",
    "    def __init__(self, m, opt, crit, clip=0, reg_fn=None, fp16=False, loss_scale=1):\n",
    "        self.m,self.opt,self.crit,self.clip,self.reg_fn = m,opt,crit,clip,reg_fn\n",
    "        self.fp16 = fp16\n",
    "        self.reset(True)\n",
    "        if self.fp16: self.fp32_params = copy_model_to_fp32(m, opt)\n",
    "        self.loss_scale = loss_scale\n",
    "\n",
    "    def reset(self, train=True):\n",
    "        if train: apply_leaf(self.m, set_train_mode)\n",
    "        else: self.m.eval()\n",
    "        if hasattr(self.m, 'reset'):\n",
    "            self.m.reset()\n",
    "            if self.fp16: self.fp32_params = copy_model_to_fp32(self.m, self.opt)\n",
    "\n",
    "    def step(self, xs, y, epoch):\n",
    "        xtra = []\n",
    "        output = self.m(*xs)\n",
    "        if isinstance(output,tuple): output,*xtra = output\n",
    "        if self.fp16: self.m.zero_grad()\n",
    "        else: self.opt.zero_grad() \n",
    "        loss = raw_loss = self.crit(output, y)\n",
    "        if self.loss_scale != 1: assert(self.fp16); loss = loss*self.loss_scale\n",
    "        if self.reg_fn: loss = self.reg_fn(output, xtra, raw_loss)\n",
    "        loss.backward()\n",
    "        if self.fp16: update_fp32_grads(self.fp32_params, self.m)\n",
    "        if self.loss_scale != 1:\n",
    "            for param in self.fp32_params: param.grad.data.div_(self.loss_scale)\n",
    "        if self.clip:   # Gradient clipping\n",
    "            nn.utils.clip_grad_norm(trainable_params_(self.m), self.clip)\n",
    "        self.opt.step()\n",
    "        if self.fp16: \n",
    "            copy_fp32_to_model(self.m, self.fp32_params)\n",
    "            torch.cuda.synchronize()\n",
    "        return torch_item(raw_loss.data)\n",
    "\n",
    "    def evaluate(self, xs, y):\n",
    "        preds = self.m(*xs)\n",
    "        if isinstance(preds,tuple): preds=preds[0]\n",
    "        return preds, self.crit(preds, y)\n",
    "\n",
    "def fit(model, data, n_epochs, opt, crit, metrics=None, callbacks=None, stepper=Stepper,\n",
    "        swa_model=None, swa_start=None, swa_eval_freq=None, **kwargs):\n",
    "    \"\"\" Fits a model\n",
    "\n",
    "    Arguments:\n",
    "       model (model): any pytorch module\n",
    "           net = to_gpu(net)\n",
    "       data (ModelData): see ModelData class and subclasses (can be a list)\n",
    "       opts: an optimizer. Example: optim.Adam. \n",
    "       If n_epochs is a list, it needs to be the layer_optimizer to get the optimizer as it changes.\n",
    "       n_epochs(int or list): number of epochs (or list of number of epochs)\n",
    "       crit: loss function to optimize. Example: F.cross_entropy\n",
    "    \"\"\"\n",
    "\n",
    "    all_val = kwargs.pop('all_val') if 'all_val' in kwargs else False\n",
    "    get_ep_vals = kwargs.pop('get_ep_vals') if 'get_ep_vals' in kwargs else False\n",
    "    metrics = metrics or []\n",
    "    callbacks = callbacks or []\n",
    "    avg_mom=0.98\n",
    "    batch_num,avg_loss=0,0.\n",
    "    for cb in callbacks: cb.on_train_begin()\n",
    "    names = [\"epoch\", \"trn_loss\", \"val_loss\"] + [f.__name__ for f in metrics]\n",
    "    if swa_model is not None:\n",
    "        swa_names = ['swa_loss'] + [f'swa_{f.__name__}' for f in metrics]\n",
    "        names += swa_names\n",
    "        # will use this to call evaluate later\n",
    "        swa_stepper = stepper(swa_model, None, crit, **kwargs)\n",
    "\n",
    "    layout = \"{!s:10} \" * len(names)\n",
    "    if not isinstance(n_epochs, Iterable): n_epochs=[n_epochs]\n",
    "    if not isinstance(data, Iterable): data = [data]\n",
    "    if len(data) == 1: data = data * len(n_epochs)\n",
    "    for cb in callbacks: cb.on_phase_begin()\n",
    "    model_stepper = stepper(model, opt.opt if hasattr(opt,'opt') else opt, crit, **kwargs)\n",
    "    ep_vals = collections.OrderedDict()\n",
    "    tot_epochs = int(np.ceil(np.array(n_epochs).sum()))\n",
    "    cnt_phases = np.array([ep * len(dat.trn_dl) for (ep,dat) in zip(n_epochs,data)]).cumsum()\n",
    "    phase = 0\n",
    "    for epoch in tnrange(tot_epochs, desc='Epoch'):\n",
    "        model_stepper.reset(True)\n",
    "        cur_data = data[phase]\n",
    "        if hasattr(cur_data, 'trn_sampler'): cur_data.trn_sampler.set_epoch(epoch)\n",
    "        if hasattr(cur_data, 'val_sampler'): cur_data.val_sampler.set_epoch(epoch)\n",
    "        num_batch = len(cur_data.trn_dl)\n",
    "        t = tqdm(iter(cur_data.trn_dl), leave=False, total=num_batch)\n",
    "        if all_val: val_iter = IterBatch(cur_data.val_dl)\n",
    "\n",
    "        for (*x,y) in t:\n",
    "            batch_num += 1\n",
    "            for cb in callbacks: cb.on_batch_begin()\n",
    "            loss = model_stepper.step(V(x),V(y), epoch)\n",
    "            avg_loss = avg_loss * avg_mom + loss * (1-avg_mom)\n",
    "            debias_loss = avg_loss / (1 - avg_mom**batch_num)\n",
    "            t.set_postfix(loss=debias_loss)\n",
    "            stop=False\n",
    "            los = debias_loss if not all_val else [debias_loss] + validate_next(model_stepper,metrics, val_iter)\n",
    "            for cb in callbacks: stop = stop or cb.on_batch_end(los)\n",
    "            if stop: return\n",
    "            if batch_num >= cnt_phases[phase]:\n",
    "                for cb in callbacks: cb.on_phase_end()\n",
    "                phase += 1\n",
    "                if phase >= len(n_epochs):\n",
    "                    t.close()\n",
    "                    break\n",
    "                for cb in callbacks: cb.on_phase_begin()\n",
    "                if isinstance(opt, LayerOptimizer): model_stepper.opt = opt.opt\n",
    "                if cur_data != data[phase]:\n",
    "                    t.close()\n",
    "                    break\n",
    "\n",
    "        if not all_val:\n",
    "            vals = validate(model_stepper, cur_data.val_dl, metrics)\n",
    "            stop=False\n",
    "            for cb in callbacks: stop = stop or cb.on_epoch_end(vals)\n",
    "            if swa_model is not None:\n",
    "                if (epoch + 1) >= swa_start and ((epoch + 1 - swa_start) % swa_eval_freq == 0 or epoch == tot_epochs - 1):\n",
    "                    fix_batchnorm(swa_model, cur_data.trn_dl)\n",
    "                    swa_vals = validate(swa_stepper, cur_data.val_dl, metrics)\n",
    "                    vals += swa_vals\n",
    "\n",
    "            if epoch == 0: print(layout.format(*names))\n",
    "            print_stats(epoch, [debias_loss] + vals)\n",
    "            ep_vals = append_stats(ep_vals, epoch, [debias_loss] + vals)\n",
    "        if stop: break\n",
    "    for cb in callbacks: cb.on_train_end()\n",
    "    if get_ep_vals: return vals, ep_vals\n",
    "    else: return vals"
   ]
  },
  {
   "cell_type": "code",
   "execution_count": 36,
   "id": "e3b0466b",
   "metadata": {},
   "outputs": [],
   "source": [
    "# from fastai/torch_imports.py\n",
    "\n",
    "def children(m): return m if isinstance(m, (list, tuple)) else list(m.children())"
   ]
  },
  {
   "cell_type": "code",
   "execution_count": 37,
   "id": "e0571d29",
   "metadata": {},
   "outputs": [],
   "source": [
    "# from fastai/core.py\n",
    "\n",
    "def chunk_iter(iterable, chunk_size):\n",
    "    '''A generator that yields chunks of iterable, chunk_size at a time. '''\n",
    "    while True:\n",
    "        chunk = []\n",
    "        try:\n",
    "            for _ in range(chunk_size): chunk.append(next(iterable))\n",
    "            yield chunk\n",
    "        except StopIteration:\n",
    "            if chunk: yield chunk\n",
    "            break"
   ]
  },
  {
   "cell_type": "code",
   "execution_count": 38,
   "id": "d3221d73",
   "metadata": {},
   "outputs": [],
   "source": [
    "# from fastai/dataloader.py\n",
    "\n",
    "def get_tensor(batch, pin, half=False):\n",
    "    if isinstance(batch, (np.ndarray, np.generic)):\n",
    "        batch = T(batch, half=half, cuda=False).contiguous()\n",
    "        if pin: batch = batch.pin_memory()\n",
    "        return to_gpu(batch)\n",
    "    elif isinstance(batch, string_classes):\n",
    "        return batch\n",
    "    elif isinstance(batch, collections.abc.Mapping):\n",
    "        return {k: get_tensor(sample, pin, half) for k, sample in batch.items()}\n",
    "    elif isinstance(batch, collections.abc.Sequence):\n",
    "        return [get_tensor(sample, pin, half) for sample in batch]\n",
    "    raise TypeError(f\"batch must contain numbers, dicts or lists; found {type(batch)}\")"
   ]
  },
  {
   "cell_type": "code",
   "execution_count": 39,
   "id": "02626dcb",
   "metadata": {},
   "outputs": [],
   "source": [
    "# from fastai/core.py\n",
    "\n",
    "def is_listy(x): return isinstance(x, (list,tuple))\n",
    "def map_over(x, f): return [f(o) for o in x] if is_listy(x) else f(x)\n",
    "\n",
    "def create_variable(x, volatile, requires_grad=False):\n",
    "    if type (x) != Variable:\n",
    "        if IS_TORCH_04: x = Variable(T(x), requires_grad=requires_grad)\n",
    "        else:           x = Variable(T(x), requires_grad=requires_grad, volatile=volatile)\n",
    "    return x\n",
    "\n",
    "def V_(x, requires_grad=False, volatile=False):\n",
    "    '''equivalent to create_variable, which creates a pytorch tensor'''\n",
    "    return create_variable(x, volatile=volatile, requires_grad=requires_grad)\n",
    "\n",
    "def V(x, requires_grad=False, volatile=False):\n",
    "    '''creates a single or a list of pytorch tensors, depending on input x. '''\n",
    "    return map_over(x, lambda o: V_(o, requires_grad, volatile))\n",
    "\n",
    "def VV_(x): \n",
    "    '''creates a volatile tensor, which does not require gradients. '''\n",
    "    return create_variable(x, True)\n",
    "\n",
    "def VV(x):\n",
    "    '''creates a single or a list of pytorch tensors, depending on input x. '''\n",
    "    return map_over(x, VV_)\n",
    "\n",
    "def to_np(v):\n",
    "    '''returns an np.array object given an input of np.array, list, tuple, torch variable or tensor.'''\n",
    "    if isinstance(v, float): return np.array(v)\n",
    "    if isinstance(v, (np.ndarray, np.generic)): return v\n",
    "    if isinstance(v, (list,tuple)): return [to_np(o) for o in v]\n",
    "    if isinstance(v, Variable): v=v.data\n",
    "    if torch.cuda.is_available():\n",
    "        if is_half_tensor(v): v=v.float()\n",
    "    if isinstance(v, torch.FloatTensor): v=v.float()\n",
    "    return v.cpu().numpy()\n",
    "\n",
    "def is_half_tensor(v):\n",
    "    return isinstance(v, torch.cuda.HalfTensor)\n",
    "\n",
    "IS_TORCH_04 = LooseVersion(torch.__version__) >= LooseVersion('0.4')\n",
    "USE_GPU = torch.cuda.is_available()\n",
    "def to_gpu(x, *args, **kwargs):\n",
    "    '''puts pytorch variable to gpu, if cuda is available and USE_GPU is set to true. '''\n",
    "    return x.cuda(*args, **kwargs) if USE_GPU else x\n",
    "\n",
    "def T(a, half=False, cuda=True):\n",
    "    \"\"\"\n",
    "    Convert numpy array into a pytorch tensor. \n",
    "    if Cuda is available and USE_GPU=ture, store resulting tensor in GPU.\n",
    "    \"\"\"\n",
    "    if not torch.is_tensor(a):\n",
    "        a = np.array(np.ascontiguousarray(a))\n",
    "        if a.dtype in (np.int8, np.int16, np.int32, np.int64):\n",
    "            a = torch.LongTensor(a.astype(np.int64))\n",
    "        elif a.dtype in (np.float32, np.float64):\n",
    "            a = torch.cuda.HalfTensor(a) if half else torch.FloatTensor(a)\n",
    "        else: raise NotImplementedError(a.dtype)\n",
    "           \n",
    "    # was `async=True` in fastai, changed to `non_blocking=True`\n",
    "    # See: https://stackoverflow.com/a/53212781/5774633\n",
    "    if cuda: a = to_gpu(a, non_blocking=True)\n",
    "    return a"
   ]
  },
  {
   "cell_type": "code",
   "execution_count": 40,
   "id": "a543dd90",
   "metadata": {},
   "outputs": [],
   "source": [
    "from torch.autograd.variable import Variable"
   ]
  },
  {
   "cell_type": "code",
   "execution_count": 41,
   "id": "3da234e4",
   "metadata": {},
   "outputs": [],
   "source": [
    "# from fastai/model.py\n",
    "\n",
    "def append_stats(ep_vals, epoch, values, decimals=6):\n",
    "    ep_vals[epoch]=list(np.round(values, decimals))\n",
    "    return ep_vals\n",
    "\n",
    "def print_stats(epoch, values, decimals=6):\n",
    "    layout = \"{!s:^10}\" + \" {!s:10}\" * len(values)\n",
    "    values = [epoch] + list(np.round(values, decimals))\n",
    "    print(layout.format(*values))\n",
    "\n",
    "def torch_item(x): return x.item() if hasattr(x,'item') else x[0]\n",
    "\n",
    "def validate(stepper, dl, metrics):\n",
    "    batch_cnts,loss,res = [],[],[]\n",
    "    stepper.reset(False)\n",
    "    with no_grad_context():\n",
    "        for (*x,y) in iter(dl):\n",
    "            preds, l = stepper.evaluate(VV(x), VV(y))\n",
    "            if isinstance(x,list): batch_cnts.append(len(x[0]))\n",
    "            else: batch_cnts.append(len(x))\n",
    "            loss.append(to_np(l))\n",
    "            res.append([f(preds.data, y).cpu() for f in metrics])\n",
    "\n",
    "    return [np.average(loss, 0, weights=batch_cnts)] + list(np.average(np.stack(res), 0, weights=batch_cnts))\n",
    "\n",
    "def no_grad_context(): return torch.no_grad() if IS_TORCH_04 else contextlib.suppress()"
   ]
  },
  {
   "cell_type": "code",
   "execution_count": 42,
   "id": "4e76ed07",
   "metadata": {},
   "outputs": [
    {
     "data": {
      "application/vnd.jupyter.widget-view+json": {
       "model_id": "fc4113d4b5d2434796083d0b59cc5543",
       "version_major": 2,
       "version_minor": 0
      },
      "text/plain": [
       "Epoch:   0%|          | 0/5 [00:00<?, ?it/s]"
      ]
     },
     "metadata": {},
     "output_type": "display_data"
    },
    {
     "data": {
      "application/vnd.jupyter.widget-view+json": {
       "model_id": "",
       "version_major": 2,
       "version_minor": 0
      },
      "text/plain": [
       "  0%|          | 0/782 [00:00<?, ?it/s]"
      ]
     },
     "metadata": {},
     "output_type": "display_data"
    },
    {
     "name": "stdout",
     "output_type": "stream",
     "text": [
      "epoch      trn_loss   val_loss   accuracy   \n",
      "    0      0.247764   0.196191   0.9455    \n"
     ]
    },
    {
     "data": {
      "application/vnd.jupyter.widget-view+json": {
       "model_id": "",
       "version_major": 2,
       "version_minor": 0
      },
      "text/plain": [
       "  0%|          | 0/782 [00:00<?, ?it/s]"
      ]
     },
     "metadata": {},
     "output_type": "display_data"
    },
    {
     "name": "stdout",
     "output_type": "stream",
     "text": [
      "    1      0.201394   0.191293   0.9463    \n"
     ]
    },
    {
     "data": {
      "application/vnd.jupyter.widget-view+json": {
       "model_id": "",
       "version_major": 2,
       "version_minor": 0
      },
      "text/plain": [
       "  0%|          | 0/782 [00:00<?, ?it/s]"
      ]
     },
     "metadata": {},
     "output_type": "display_data"
    },
    {
     "name": "stdout",
     "output_type": "stream",
     "text": [
      "    2      0.200556   0.171279   0.9501    \n"
     ]
    },
    {
     "data": {
      "application/vnd.jupyter.widget-view+json": {
       "model_id": "",
       "version_major": 2,
       "version_minor": 0
      },
      "text/plain": [
       "  0%|          | 0/782 [00:00<?, ?it/s]"
      ]
     },
     "metadata": {},
     "output_type": "display_data"
    },
    {
     "name": "stdout",
     "output_type": "stream",
     "text": [
      "    3      0.189458   0.1605     0.9531    \n"
     ]
    },
    {
     "data": {
      "application/vnd.jupyter.widget-view+json": {
       "model_id": "090ca31eab0548149fc83fa0cd17ac14",
       "version_major": 2,
       "version_minor": 0
      },
      "text/plain": [
       "  0%|          | 0/782 [00:00<?, ?it/s]"
      ]
     },
     "metadata": {},
     "output_type": "display_data"
    },
    {
     "name": "stdout",
     "output_type": "stream",
     "text": [
      "    4      0.193909   0.162948   0.9545    \n"
     ]
    },
    {
     "data": {
      "text/plain": [
       "[0.1629480870731175, 0.9545]"
      ]
     },
     "execution_count": 42,
     "metadata": {},
     "output_type": "execute_result"
    }
   ],
   "source": [
    "fit(net, md, n_epochs=5, crit=loss, opt=opt, metrics=metrics)"
   ]
  },
  {
   "cell_type": "code",
   "execution_count": 43,
   "id": "3118d823",
   "metadata": {},
   "outputs": [],
   "source": [
    "# from fastai/layer_optimizer.py\n",
    "\n",
    "def zip_strict_(l, r):\n",
    "    assert(len(l) == len(r))\n",
    "    return zip(l, r)\n",
    "\n",
    "def set_lrs(opt, lrs):\n",
    "    if not isinstance(lrs, Iterable): lrs=[lrs]\n",
    "    if len(lrs)==1: lrs=lrs*len(opt.param_groups)\n",
    "    for pg,lr in zip_strict_(opt.param_groups,lrs): pg['lr'] = lr"
   ]
  },
  {
   "cell_type": "code",
   "execution_count": 44,
   "id": "ed951fae",
   "metadata": {},
   "outputs": [],
   "source": [
    "set_lrs(opt, 1e-2)"
   ]
  },
  {
   "cell_type": "code",
   "execution_count": 45,
   "id": "1092d4e0",
   "metadata": {},
   "outputs": [
    {
     "data": {
      "application/vnd.jupyter.widget-view+json": {
       "model_id": "11a939d1d6da4def82705164122ca33b",
       "version_major": 2,
       "version_minor": 0
      },
      "text/plain": [
       "Epoch:   0%|          | 0/3 [00:00<?, ?it/s]"
      ]
     },
     "metadata": {},
     "output_type": "display_data"
    },
    {
     "data": {
      "application/vnd.jupyter.widget-view+json": {
       "model_id": "",
       "version_major": 2,
       "version_minor": 0
      },
      "text/plain": [
       "  0%|          | 0/782 [00:00<?, ?it/s]"
      ]
     },
     "metadata": {},
     "output_type": "display_data"
    },
    {
     "name": "stdout",
     "output_type": "stream",
     "text": [
      "epoch      trn_loss   val_loss   accuracy   \n",
      "    0      0.07807    0.091672   0.9742    \n"
     ]
    },
    {
     "data": {
      "application/vnd.jupyter.widget-view+json": {
       "model_id": "",
       "version_major": 2,
       "version_minor": 0
      },
      "text/plain": [
       "  0%|          | 0/782 [00:00<?, ?it/s]"
      ]
     },
     "metadata": {},
     "output_type": "display_data"
    },
    {
     "name": "stdout",
     "output_type": "stream",
     "text": [
      "    1      0.056924   0.084224   0.9761    \n"
     ]
    },
    {
     "data": {
      "application/vnd.jupyter.widget-view+json": {
       "model_id": "03ad683472454b7eb5e31f4e691848a6",
       "version_major": 2,
       "version_minor": 0
      },
      "text/plain": [
       "  0%|          | 0/782 [00:00<?, ?it/s]"
      ]
     },
     "metadata": {},
     "output_type": "display_data"
    },
    {
     "name": "stdout",
     "output_type": "stream",
     "text": [
      "    2      0.043415   0.075856   0.9781    \n"
     ]
    },
    {
     "data": {
      "text/plain": [
       "[0.07585570596754551, 0.9781]"
      ]
     },
     "execution_count": 45,
     "metadata": {},
     "output_type": "execute_result"
    }
   ],
   "source": [
    "fit(net, md, n_epochs=3, crit=loss, opt=opt, metrics=metrics)"
   ]
  },
  {
   "cell_type": "code",
   "execution_count": 46,
   "id": "42f07c6a",
   "metadata": {},
   "outputs": [
    {
     "data": {
      "application/vnd.jupyter.widget-view+json": {
       "model_id": "51b66f7e5a0b454d94601ab1f55161cb",
       "version_major": 2,
       "version_minor": 0
      },
      "text/plain": [
       "Epoch:   0%|          | 0/5 [00:00<?, ?it/s]"
      ]
     },
     "metadata": {},
     "output_type": "display_data"
    },
    {
     "data": {
      "application/vnd.jupyter.widget-view+json": {
       "model_id": "",
       "version_major": 2,
       "version_minor": 0
      },
      "text/plain": [
       "  0%|          | 0/782 [00:00<?, ?it/s]"
      ]
     },
     "metadata": {},
     "output_type": "display_data"
    },
    {
     "name": "stdout",
     "output_type": "stream",
     "text": [
      "epoch      trn_loss   val_loss   accuracy   \n",
      "    0      0.046077   0.075967   0.9777    \n"
     ]
    },
    {
     "data": {
      "application/vnd.jupyter.widget-view+json": {
       "model_id": "",
       "version_major": 2,
       "version_minor": 0
      },
      "text/plain": [
       "  0%|          | 0/782 [00:00<?, ?it/s]"
      ]
     },
     "metadata": {},
     "output_type": "display_data"
    },
    {
     "name": "stdout",
     "output_type": "stream",
     "text": [
      "    1      0.040895   0.073943   0.9787    \n"
     ]
    },
    {
     "data": {
      "application/vnd.jupyter.widget-view+json": {
       "model_id": "",
       "version_major": 2,
       "version_minor": 0
      },
      "text/plain": [
       "  0%|          | 0/782 [00:00<?, ?it/s]"
      ]
     },
     "metadata": {},
     "output_type": "display_data"
    },
    {
     "name": "stdout",
     "output_type": "stream",
     "text": [
      "    2      0.041281   0.071882   0.9794    \n"
     ]
    },
    {
     "data": {
      "application/vnd.jupyter.widget-view+json": {
       "model_id": "",
       "version_major": 2,
       "version_minor": 0
      },
      "text/plain": [
       "  0%|          | 0/782 [00:00<?, ?it/s]"
      ]
     },
     "metadata": {},
     "output_type": "display_data"
    },
    {
     "name": "stdout",
     "output_type": "stream",
     "text": [
      "    3      0.035026   0.068766   0.98      \n"
     ]
    },
    {
     "data": {
      "application/vnd.jupyter.widget-view+json": {
       "model_id": "809177bf77264c1b96bd1de795eecbd0",
       "version_major": 2,
       "version_minor": 0
      },
      "text/plain": [
       "  0%|          | 0/782 [00:00<?, ?it/s]"
      ]
     },
     "metadata": {},
     "output_type": "display_data"
    },
    {
     "name": "stdout",
     "output_type": "stream",
     "text": [
      "    4      0.029358   0.067943   0.9792    \n"
     ]
    },
    {
     "data": {
      "text/plain": [
       "[0.06794301130920649, 0.9792]"
      ]
     },
     "execution_count": 46,
     "metadata": {},
     "output_type": "execute_result"
    }
   ],
   "source": [
    "fit(net, md, n_epochs=5, crit=loss, opt=opt, metrics=metrics)"
   ]
  },
  {
   "cell_type": "code",
   "execution_count": 47,
   "id": "63e193b2",
   "metadata": {},
   "outputs": [],
   "source": [
    "set_lrs(opt, 1e-2)"
   ]
  },
  {
   "cell_type": "code",
   "execution_count": 48,
   "id": "c2133aa8",
   "metadata": {},
   "outputs": [
    {
     "data": {
      "application/vnd.jupyter.widget-view+json": {
       "model_id": "8bfbc806facd42cca29a2e7d9f8e16f8",
       "version_major": 2,
       "version_minor": 0
      },
      "text/plain": [
       "Epoch:   0%|          | 0/3 [00:00<?, ?it/s]"
      ]
     },
     "metadata": {},
     "output_type": "display_data"
    },
    {
     "data": {
      "application/vnd.jupyter.widget-view+json": {
       "model_id": "",
       "version_major": 2,
       "version_minor": 0
      },
      "text/plain": [
       "  0%|          | 0/782 [00:00<?, ?it/s]"
      ]
     },
     "metadata": {},
     "output_type": "display_data"
    },
    {
     "name": "stdout",
     "output_type": "stream",
     "text": [
      "epoch      trn_loss   val_loss   accuracy   \n",
      "    0      0.025079   0.069776   0.9781    \n"
     ]
    },
    {
     "data": {
      "application/vnd.jupyter.widget-view+json": {
       "model_id": "",
       "version_major": 2,
       "version_minor": 0
      },
      "text/plain": [
       "  0%|          | 0/782 [00:00<?, ?it/s]"
      ]
     },
     "metadata": {},
     "output_type": "display_data"
    },
    {
     "name": "stdout",
     "output_type": "stream",
     "text": [
      "    1      0.029417   0.066447   0.9801    \n"
     ]
    },
    {
     "data": {
      "application/vnd.jupyter.widget-view+json": {
       "model_id": "f4637efc79fb45c59e9157aeccb327f4",
       "version_major": 2,
       "version_minor": 0
      },
      "text/plain": [
       "  0%|          | 0/782 [00:00<?, ?it/s]"
      ]
     },
     "metadata": {},
     "output_type": "display_data"
    },
    {
     "name": "stdout",
     "output_type": "stream",
     "text": [
      "    2      0.027548   0.068008   0.979     \n"
     ]
    },
    {
     "data": {
      "text/plain": [
       "[0.06800784688852728, 0.979]"
      ]
     },
     "execution_count": 48,
     "metadata": {},
     "output_type": "execute_result"
    }
   ],
   "source": [
    "fit(net, md, n_epochs=3, crit=loss, opt=opt, metrics=metrics)"
   ]
  },
  {
   "cell_type": "code",
   "execution_count": 49,
   "id": "710ab9f9",
   "metadata": {},
   "outputs": [
    {
     "data": {
      "text/plain": [
       "([78400, 100, 10000, 100, 1000, 10], 89610)"
      ]
     },
     "execution_count": 49,
     "metadata": {},
     "output_type": "execute_result"
    }
   ],
   "source": [
    "t = [o.numel() for o in net.parameters()]\n",
    "t, sum(t)"
   ]
  },
  {
   "cell_type": "code",
   "execution_count": 50,
   "id": "a73a2025",
   "metadata": {},
   "outputs": [],
   "source": [
    "# from fastai/model.py\n",
    "\n",
    "def get_prediction(x):\n",
    "    if is_listy(x): x=x[0]\n",
    "    return x.data\n",
    "\n",
    "def predict_with_targs_(m, dl):\n",
    "    m.eval()\n",
    "    if hasattr(m, 'reset'): m.reset()\n",
    "    res = []\n",
    "    for *x,y in iter(dl): res.append([get_prediction(m(*VV(x))),y])\n",
    "    return zip(*res)\n",
    "\n",
    "def predict(m, dl):\n",
    "    preda,_ = predict_with_targs_(m, dl)\n",
    "    return to_np(torch.cat(preda))"
   ]
  },
  {
   "cell_type": "code",
   "execution_count": 51,
   "id": "b001fd27",
   "metadata": {},
   "outputs": [],
   "source": [
    "preds = predict(net, md.val_dl)"
   ]
  },
  {
   "cell_type": "code",
   "execution_count": 52,
   "id": "6c3a3fae",
   "metadata": {},
   "outputs": [
    {
     "data": {
      "text/plain": [
       "(10000, 10)"
      ]
     },
     "execution_count": 52,
     "metadata": {},
     "output_type": "execute_result"
    }
   ],
   "source": [
    "preds.shape"
   ]
  },
  {
   "cell_type": "code",
   "execution_count": 53,
   "id": "38ab8b8e",
   "metadata": {},
   "outputs": [
    {
     "data": {
      "text/plain": [
       "array([3, 8, 6, 9, 6])"
      ]
     },
     "execution_count": 53,
     "metadata": {},
     "output_type": "execute_result"
    }
   ],
   "source": [
    "preds.argmax(axis=1)[:5]"
   ]
  },
  {
   "cell_type": "code",
   "execution_count": 54,
   "id": "ad4d4695",
   "metadata": {},
   "outputs": [],
   "source": [
    "preds = preds.argmax(1)"
   ]
  },
  {
   "cell_type": "code",
   "execution_count": 55,
   "id": "c9ed15c5",
   "metadata": {},
   "outputs": [
    {
     "data": {
      "text/plain": [
       "0.979"
      ]
     },
     "execution_count": 55,
     "metadata": {},
     "output_type": "execute_result"
    }
   ],
   "source": [
    "np.mean(preds == y_valid)"
   ]
  },
  {
   "cell_type": "code",
   "execution_count": 56,
   "id": "78d8c7fc",
   "metadata": {},
   "outputs": [
    {
     "data": {
      "image/png": "[encoded data removed]",
      "text/plain": [
       "<Figure size 864x432 with 8 Axes>"
      ]
     },
     "metadata": {
      "needs_background": "light"
     },
     "output_type": "display_data"
    }
   ],
   "source": [
    "plots(x_imgs[:8], titles=preds[:8])"
   ]
  },
  {
   "cell_type": "code",
   "execution_count": 57,
   "id": "7d56f8a0",
   "metadata": {},
   "outputs": [],
   "source": [
    "def get_weights(*dims): return nn.Parameter(torch.randn(dims)/dims[0])\n",
    "def softmax(x): return torch.exp(x)/(torch.exp(x).sum(dim=1)[:,None])\n",
    "\n",
    "class LogReg(nn.Module):\n",
    "    def __init__(self):\n",
    "        super().__init__()\n",
    "        self.l1_w = get_weights(28*28, 10)  # Layer 1 weights\n",
    "        self.l1_b = get_weights(10)         # Layer 1 bias\n",
    "\n",
    "    def forward(self, x):\n",
    "        x = x.view(x.size(0), -1)\n",
    "        x = (x @ self.l1_w) + self.l1_b  # Linear Layer\n",
    "        x = torch.log(softmax(x)) # Non-linear (LogSoftmax) Layer\n",
    "        return x"
   ]
  },
  {
   "cell_type": "code",
   "execution_count": 58,
   "id": "ec7cd33d",
   "metadata": {},
   "outputs": [],
   "source": [
    "net2 = LogReg().cuda()\n",
    "opt=optim.Adam(net2.parameters())"
   ]
  },
  {
   "cell_type": "code",
   "execution_count": 59,
   "id": "f1ef2d72",
   "metadata": {},
   "outputs": [
    {
     "data": {
      "application/vnd.jupyter.widget-view+json": {
       "model_id": "a8b9126408924ab8b2fb3674c3c0365e",
       "version_major": 2,
       "version_minor": 0
      },
      "text/plain": [
       "Epoch:   0%|          | 0/1 [00:00<?, ?it/s]"
      ]
     },
     "metadata": {},
     "output_type": "display_data"
    },
    {
     "data": {
      "application/vnd.jupyter.widget-view+json": {
       "model_id": "48300a8ef0584e1886b2d05a7a5915d8",
       "version_major": 2,
       "version_minor": 0
      },
      "text/plain": [
       "  0%|          | 0/782 [00:00<?, ?it/s]"
      ]
     },
     "metadata": {},
     "output_type": "display_data"
    },
    {
     "name": "stdout",
     "output_type": "stream",
     "text": [
      "epoch      trn_loss   val_loss   accuracy   \n",
      "    0      0.320699   0.287455   0.918     \n"
     ]
    },
    {
     "data": {
      "text/plain": [
       "[0.28745457804203034, 0.918]"
      ]
     },
     "execution_count": 59,
     "metadata": {},
     "output_type": "execute_result"
    }
   ],
   "source": [
    "fit(net2, md, n_epochs=1, crit=loss, opt=opt, metrics=metrics)"
   ]
  },
  {
   "cell_type": "code",
   "execution_count": 60,
   "id": "0aac0965",
   "metadata": {},
   "outputs": [],
   "source": [
    "dl = iter(md.trn_dl)"
   ]
  },
  {
   "cell_type": "code",
   "execution_count": 61,
   "id": "2f124a90",
   "metadata": {},
   "outputs": [],
   "source": [
    "xmb,ymb = next(dl)"
   ]
  },
  {
   "cell_type": "code",
   "execution_count": 62,
   "id": "d97c1f99",
   "metadata": {},
   "outputs": [
    {
     "data": {
      "text/plain": [
       "tensor([[-0.4245, -0.4245, -0.4245,  ..., -0.4245, -0.4245, -0.4245],\n",
       "        [-0.4245, -0.4245, -0.4245,  ..., -0.4245, -0.4245, -0.4245],\n",
       "        [-0.4245, -0.4245, -0.4245,  ..., -0.4245, -0.4245, -0.4245],\n",
       "        ...,\n",
       "        [-0.4245, -0.4245, -0.4245,  ..., -0.4245, -0.4245, -0.4245],\n",
       "        [-0.4245, -0.4245, -0.4245,  ..., -0.4245, -0.4245, -0.4245],\n",
       "        [-0.4245, -0.4245, -0.4245,  ..., -0.4245, -0.4245, -0.4245]])"
      ]
     },
     "execution_count": 62,
     "metadata": {},
     "output_type": "execute_result"
    }
   ],
   "source": [
    "vxmb = Variable(xmb.cuda())\n",
    "vxmb"
   ]
  },
  {
   "cell_type": "code",
   "execution_count": 63,
   "id": "7ef7a420",
   "metadata": {},
   "outputs": [
    {
     "data": {
      "text/plain": [
       "tensor([[1.3021e-02, 8.9860e-05, 8.0045e-04, 3.7159e-02, 3.6174e-05, 9.4346e-01,\n",
       "         4.9760e-03, 1.0173e-04, 2.1974e-04, 1.3095e-04],\n",
       "        [4.5638e-05, 7.1973e-05, 1.3736e-04, 1.3554e-04, 1.1064e-04, 3.3041e-04,\n",
       "         8.8285e-07, 9.8119e-01, 8.9011e-05, 1.7889e-02],\n",
       "        [7.1601e-05, 7.1269e-04, 5.7778e-04, 4.1019e-03, 9.7616e-01, 4.9250e-04,\n",
       "         1.3389e-02, 1.3502e-03, 1.9777e-04, 2.9484e-03]],\n",
       "       grad_fn=<SliceBackward0>)"
      ]
     },
     "execution_count": 63,
     "metadata": {},
     "output_type": "execute_result"
    }
   ],
   "source": [
    "preds = net2(vxmb).exp(); preds[:3]"
   ]
  },
  {
   "cell_type": "code",
   "execution_count": 64,
   "id": "03b12b9e",
   "metadata": {},
   "outputs": [
    {
     "data": {
      "text/plain": [
       "tensor([[1.3021e-02, 8.9860e-05, 8.0045e-04, 3.7159e-02, 3.6174e-05, 9.4346e-01,\n",
       "         4.9760e-03, 1.0173e-04, 2.1974e-04, 1.3095e-04],\n",
       "        [4.5638e-05, 7.1973e-05, 1.3736e-04, 1.3554e-04, 1.1064e-04, 3.3041e-04,\n",
       "         8.8285e-07, 9.8119e-01, 8.9011e-05, 1.7889e-02],\n",
       "        [7.1601e-05, 7.1269e-04, 5.7778e-04, 4.1019e-03, 9.7616e-01, 4.9250e-04,\n",
       "         1.3389e-02, 1.3502e-03, 1.9777e-04, 2.9484e-03]],\n",
       "       grad_fn=<SliceBackward0>)"
      ]
     },
     "execution_count": 64,
     "metadata": {},
     "output_type": "execute_result"
    }
   ],
   "source": [
    "preds = net2(vxmb).exp(); preds[:3]"
   ]
  },
  {
   "cell_type": "code",
   "execution_count": 65,
   "id": "204e0d3d",
   "metadata": {},
   "outputs": [
    {
     "data": {
      "image/png": "[encoded data removed]",
      "text/plain": [
       "<Figure size 864x432 with 8 Axes>"
      ]
     },
     "metadata": {
      "needs_background": "light"
     },
     "output_type": "display_data"
    }
   ],
   "source": [
    "preds = predict(net2, md.val_dl).argmax(1)\n",
    "plots(x_imgs[:8], titles=preds[:8])"
   ]
  },
  {
   "cell_type": "code",
   "execution_count": 66,
   "id": "15069edd",
   "metadata": {},
   "outputs": [
    {
     "data": {
      "text/plain": [
       "0.918"
      ]
     },
     "execution_count": 66,
     "metadata": {},
     "output_type": "execute_result"
    }
   ],
   "source": [
    "np.mean(preds == y_valid)"
   ]
  },
  {
   "cell_type": "code",
   "execution_count": 67,
   "id": "658321e5",
   "metadata": {},
   "outputs": [
    {
     "data": {
      "text/plain": [
       "(array([10,  6, -4]), array([2, 8, 7]))"
      ]
     },
     "execution_count": 67,
     "metadata": {},
     "output_type": "execute_result"
    }
   ],
   "source": [
    "a = np.array([10, 6, -4])\n",
    "b = np.array([2, 8, 7])\n",
    "a,b"
   ]
  },
  {
   "cell_type": "code",
   "execution_count": 68,
   "id": "27188c90",
   "metadata": {},
   "outputs": [
    {
     "data": {
      "text/plain": [
       "array([12, 14,  3])"
      ]
     },
     "execution_count": 68,
     "metadata": {},
     "output_type": "execute_result"
    }
   ],
   "source": [
    "a + b"
   ]
  },
  {
   "cell_type": "code",
   "execution_count": 69,
   "id": "6d1d3b14",
   "metadata": {},
   "outputs": [
    {
     "data": {
      "text/plain": [
       "0.6666666666666666"
      ]
     },
     "execution_count": 69,
     "metadata": {},
     "output_type": "execute_result"
    }
   ],
   "source": [
    "(a < b).mean()"
   ]
  },
  {
   "cell_type": "code",
   "execution_count": 70,
   "id": "4482fb76",
   "metadata": {},
   "outputs": [
    {
     "data": {
      "text/plain": [
       "array([10,  6, -4])"
      ]
     },
     "execution_count": 70,
     "metadata": {},
     "output_type": "execute_result"
    }
   ],
   "source": [
    "a"
   ]
  },
  {
   "cell_type": "code",
   "execution_count": 71,
   "id": "81ae336a",
   "metadata": {},
   "outputs": [
    {
     "data": {
      "text/plain": [
       "array([ True,  True, False])"
      ]
     },
     "execution_count": 71,
     "metadata": {},
     "output_type": "execute_result"
    }
   ],
   "source": [
    "a > 0"
   ]
  },
  {
   "cell_type": "code",
   "execution_count": 72,
   "id": "cc57e7fc",
   "metadata": {},
   "outputs": [
    {
     "data": {
      "text/plain": [
       "array([11,  7, -3])"
      ]
     },
     "execution_count": 72,
     "metadata": {},
     "output_type": "execute_result"
    }
   ],
   "source": [
    "a + 1"
   ]
  },
  {
   "cell_type": "code",
   "execution_count": 73,
   "id": "6a017efd",
   "metadata": {},
   "outputs": [
    {
     "data": {
      "text/plain": [
       "array([[1, 2, 3],\n",
       "       [4, 5, 6],\n",
       "       [7, 8, 9]])"
      ]
     },
     "execution_count": 73,
     "metadata": {},
     "output_type": "execute_result"
    }
   ],
   "source": [
    "m = np.array([[1, 2, 3], [4,5,6], [7,8,9]]); m"
   ]
  },
  {
   "cell_type": "code",
   "execution_count": 74,
   "id": "695d5411",
   "metadata": {},
   "outputs": [
    {
     "data": {
      "text/plain": [
       "array([[ 2,  4,  6],\n",
       "       [ 8, 10, 12],\n",
       "       [14, 16, 18]])"
      ]
     },
     "execution_count": 74,
     "metadata": {},
     "output_type": "execute_result"
    }
   ],
   "source": [
    "2*m"
   ]
  },
  {
   "cell_type": "code",
   "execution_count": 75,
   "id": "55897ad9",
   "metadata": {},
   "outputs": [
    {
     "data": {
      "text/plain": [
       "array([10, 20, 30])"
      ]
     },
     "execution_count": 75,
     "metadata": {},
     "output_type": "execute_result"
    }
   ],
   "source": [
    "c = np.array([10,20,30]); c"
   ]
  },
  {
   "cell_type": "code",
   "execution_count": 76,
   "id": "58baae21",
   "metadata": {},
   "outputs": [
    {
     "data": {
      "text/plain": [
       "array([[11, 22, 33],\n",
       "       [14, 25, 36],\n",
       "       [17, 28, 39]])"
      ]
     },
     "execution_count": 76,
     "metadata": {},
     "output_type": "execute_result"
    }
   ],
   "source": [
    "m + c"
   ]
  },
  {
   "cell_type": "code",
   "execution_count": 77,
   "id": "161d0a51",
   "metadata": {},
   "outputs": [
    {
     "data": {
      "text/plain": [
       "array([[11, 22, 33],\n",
       "       [14, 25, 36],\n",
       "       [17, 28, 39]])"
      ]
     },
     "execution_count": 77,
     "metadata": {},
     "output_type": "execute_result"
    }
   ],
   "source": [
    "c + m"
   ]
  },
  {
   "cell_type": "code",
   "execution_count": 78,
   "id": "a97980ea",
   "metadata": {},
   "outputs": [
    {
     "data": {
      "text/plain": [
       "(3,)"
      ]
     },
     "execution_count": 78,
     "metadata": {},
     "output_type": "execute_result"
    }
   ],
   "source": [
    "c.shape"
   ]
  },
  {
   "cell_type": "code",
   "execution_count": 79,
   "id": "b163b40a",
   "metadata": {},
   "outputs": [
    {
     "data": {
      "text/plain": [
       "array([[10, 10, 10],\n",
       "       [20, 20, 20],\n",
       "       [30, 30, 30]])"
      ]
     },
     "execution_count": 79,
     "metadata": {},
     "output_type": "execute_result"
    }
   ],
   "source": [
    "np.broadcast_to(c[:,None], m.shape)"
   ]
  },
  {
   "cell_type": "code",
   "execution_count": 80,
   "id": "dbb0ff0c",
   "metadata": {},
   "outputs": [
    {
     "data": {
      "text/plain": [
       "array([[10, 20, 30],\n",
       "       [10, 20, 30],\n",
       "       [10, 20, 30]])"
      ]
     },
     "execution_count": 80,
     "metadata": {},
     "output_type": "execute_result"
    }
   ],
   "source": [
    "np.broadcast_to(np.expand_dims(c,0), (3,3))"
   ]
  },
  {
   "cell_type": "code",
   "execution_count": 81,
   "id": "f887db81",
   "metadata": {},
   "outputs": [
    {
     "data": {
      "text/plain": [
       "(3,)"
      ]
     },
     "execution_count": 81,
     "metadata": {},
     "output_type": "execute_result"
    }
   ],
   "source": [
    "c.shape"
   ]
  },
  {
   "cell_type": "code",
   "execution_count": 82,
   "id": "3a8a8eac",
   "metadata": {},
   "outputs": [
    {
     "data": {
      "text/plain": [
       "(1, 3)"
      ]
     },
     "execution_count": 82,
     "metadata": {},
     "output_type": "execute_result"
    }
   ],
   "source": [
    "np.expand_dims(c,0).shape"
   ]
  },
  {
   "cell_type": "code",
   "execution_count": 83,
   "id": "aa36daa0",
   "metadata": {},
   "outputs": [
    {
     "data": {
      "text/plain": [
       "(1, 3)"
      ]
     },
     "execution_count": 83,
     "metadata": {},
     "output_type": "execute_result"
    }
   ],
   "source": [
    "np.expand_dims(c,0).shape"
   ]
  },
  {
   "cell_type": "code",
   "execution_count": 84,
   "id": "ab02556e",
   "metadata": {},
   "outputs": [
    {
     "data": {
      "text/plain": [
       "array([[11, 22, 33],\n",
       "       [14, 25, 36],\n",
       "       [17, 28, 39]])"
      ]
     },
     "execution_count": 84,
     "metadata": {},
     "output_type": "execute_result"
    }
   ],
   "source": [
    "m + np.expand_dims(c,0)"
   ]
  },
  {
   "cell_type": "code",
   "execution_count": 85,
   "id": "b02c1112",
   "metadata": {},
   "outputs": [
    {
     "data": {
      "text/plain": [
       "array([[10],\n",
       "       [20],\n",
       "       [30]])"
      ]
     },
     "execution_count": 85,
     "metadata": {},
     "output_type": "execute_result"
    }
   ],
   "source": [
    "np.expand_dims(c,1)"
   ]
  },
  {
   "cell_type": "code",
   "execution_count": 86,
   "id": "894df4d9",
   "metadata": {},
   "outputs": [
    {
     "data": {
      "text/plain": [
       "(3, 1)"
      ]
     },
     "execution_count": 86,
     "metadata": {},
     "output_type": "execute_result"
    }
   ],
   "source": [
    "c[:, None].shape"
   ]
  },
  {
   "cell_type": "code",
   "execution_count": 87,
   "id": "eeea28d1",
   "metadata": {},
   "outputs": [
    {
     "data": {
      "text/plain": [
       "array([[11, 12, 13],\n",
       "       [24, 25, 26],\n",
       "       [37, 38, 39]])"
      ]
     },
     "execution_count": 87,
     "metadata": {},
     "output_type": "execute_result"
    }
   ],
   "source": [
    "m + np.expand_dims(c,1)"
   ]
  },
  {
   "cell_type": "code",
   "execution_count": 88,
   "id": "3a19d9e1",
   "metadata": {},
   "outputs": [
    {
     "data": {
      "text/plain": [
       "array([[10, 10, 10],\n",
       "       [20, 20, 20],\n",
       "       [30, 30, 30]])"
      ]
     },
     "execution_count": 88,
     "metadata": {},
     "output_type": "execute_result"
    }
   ],
   "source": [
    "np.broadcast_to(np.expand_dims(c,1), (3,3))"
   ]
  },
  {
   "cell_type": "code",
   "execution_count": 89,
   "id": "ce8f7a94",
   "metadata": {},
   "outputs": [
    {
     "data": {
      "text/plain": [
       "array([10, 20, 30])"
      ]
     },
     "execution_count": 89,
     "metadata": {},
     "output_type": "execute_result"
    }
   ],
   "source": [
    "c"
   ]
  },
  {
   "cell_type": "code",
   "execution_count": 90,
   "id": "4317f878",
   "metadata": {},
   "outputs": [
    {
     "data": {
      "text/plain": [
       "array([[10, 20, 30]])"
      ]
     },
     "execution_count": 90,
     "metadata": {},
     "output_type": "execute_result"
    }
   ],
   "source": [
    "c[None]"
   ]
  },
  {
   "cell_type": "code",
   "execution_count": 91,
   "id": "9824b16a",
   "metadata": {},
   "outputs": [
    {
     "data": {
      "text/plain": [
       "array([[10],\n",
       "       [20],\n",
       "       [30]])"
      ]
     },
     "execution_count": 91,
     "metadata": {},
     "output_type": "execute_result"
    }
   ],
   "source": [
    "c[:,None]"
   ]
  },
  {
   "cell_type": "code",
   "execution_count": 92,
   "id": "bf048f39",
   "metadata": {},
   "outputs": [
    {
     "data": {
      "text/plain": [
       "array([[False,  True,  True],\n",
       "       [False, False,  True],\n",
       "       [False, False, False]])"
      ]
     },
     "execution_count": 92,
     "metadata": {},
     "output_type": "execute_result"
    }
   ],
   "source": [
    "c[None] > c[:,None]"
   ]
  },
  {
   "cell_type": "code",
   "execution_count": 93,
   "id": "9605a9af",
   "metadata": {},
   "outputs": [
    {
     "data": {
      "text/plain": [
       "(array([[0],\n",
       "        [1],\n",
       "        [2],\n",
       "        [3],\n",
       "        [4]]),\n",
       " array([[0, 1, 2, 3, 4]]))"
      ]
     },
     "execution_count": 93,
     "metadata": {},
     "output_type": "execute_result"
    }
   ],
   "source": [
    "xg,yg = np.ogrid[0:5, 0:5]; xg,yg"
   ]
  },
  {
   "cell_type": "code",
   "execution_count": 94,
   "id": "047abcf3",
   "metadata": {},
   "outputs": [
    {
     "data": {
      "text/plain": [
       "array([[0, 1, 2, 3, 4],\n",
       "       [1, 2, 3, 4, 5],\n",
       "       [2, 3, 4, 5, 6],\n",
       "       [3, 4, 5, 6, 7],\n",
       "       [4, 5, 6, 7, 8]])"
      ]
     },
     "execution_count": 94,
     "metadata": {},
     "output_type": "execute_result"
    }
   ],
   "source": [
    "xg+yg"
   ]
  },
  {
   "cell_type": "code",
   "execution_count": 95,
   "id": "23c6f175",
   "metadata": {},
   "outputs": [
    {
     "data": {
      "text/plain": [
       "(array([[1, 2, 3],\n",
       "        [4, 5, 6],\n",
       "        [7, 8, 9]]),\n",
       " array([10, 20, 30]))"
      ]
     },
     "execution_count": 95,
     "metadata": {},
     "output_type": "execute_result"
    }
   ],
   "source": [
    "m, c"
   ]
  },
  {
   "cell_type": "code",
   "execution_count": 96,
   "id": "6a06cd74",
   "metadata": {},
   "outputs": [
    {
     "data": {
      "text/plain": [
       "array([140, 320, 500])"
      ]
     },
     "execution_count": 96,
     "metadata": {},
     "output_type": "execute_result"
    }
   ],
   "source": [
    "m @ c  # np.matmul(m, c)"
   ]
  },
  {
   "cell_type": "code",
   "execution_count": 97,
   "id": "1093ea89",
   "metadata": {},
   "outputs": [
    {
     "data": {
      "text/plain": [
       "tensor([140., 320., 500.])"
      ]
     },
     "execution_count": 97,
     "metadata": {},
     "output_type": "execute_result"
    }
   ],
   "source": [
    "# this line produces error \n",
    "# T(m) @ T(c)\n",
    "# fix by converting tensors to float\n",
    "T(m).float() @ T(c).float()"
   ]
  },
  {
   "cell_type": "code",
   "execution_count": 98,
   "id": "9f326267",
   "metadata": {},
   "outputs": [
    {
     "data": {
      "text/plain": [
       "tuple"
      ]
     },
     "execution_count": 98,
     "metadata": {},
     "output_type": "execute_result"
    }
   ],
   "source": [
    "# broadcast to tuple\n",
    "x= m,c\n",
    "type(x)"
   ]
  },
  {
   "cell_type": "code",
   "execution_count": 99,
   "id": "a88d0dab",
   "metadata": {},
   "outputs": [
    {
     "data": {
      "text/plain": [
       "array([[ 10,  40,  90],\n",
       "       [ 40, 100, 180],\n",
       "       [ 70, 160, 270]])"
      ]
     },
     "execution_count": 99,
     "metadata": {},
     "output_type": "execute_result"
    }
   ],
   "source": [
    "# element-wise multiplication\n",
    "m * c"
   ]
  },
  {
   "cell_type": "code",
   "execution_count": 100,
   "id": "a9bc5d85",
   "metadata": {},
   "outputs": [
    {
     "data": {
      "text/plain": [
       "array([140, 320, 500])"
      ]
     },
     "execution_count": 100,
     "metadata": {},
     "output_type": "execute_result"
    }
   ],
   "source": [
    "# axis = 0 is along horizontal (x-axis)\n",
    "# axis = 1 is along vertical (y-axis)\n",
    "(m * c).sum(axis=1)"
   ]
  },
  {
   "cell_type": "code",
   "execution_count": 101,
   "id": "70641198",
   "metadata": {},
   "outputs": [
    {
     "data": {
      "text/plain": [
       "array([10, 20, 30])"
      ]
     },
     "execution_count": 101,
     "metadata": {},
     "output_type": "execute_result"
    }
   ],
   "source": [
    "c"
   ]
  },
  {
   "cell_type": "code",
   "execution_count": 102,
   "id": "80e98070",
   "metadata": {},
   "outputs": [
    {
     "data": {
      "text/plain": [
       "array([[10, 20, 30],\n",
       "       [10, 20, 30],\n",
       "       [10, 20, 30]])"
      ]
     },
     "execution_count": 102,
     "metadata": {},
     "output_type": "execute_result"
    }
   ],
   "source": [
    "np.broadcast_to(c, (3,3))"
   ]
  },
  {
   "cell_type": "code",
   "execution_count": 103,
   "id": "47d04075",
   "metadata": {},
   "outputs": [
    {
     "data": {
      "text/plain": [
       "array([[10, 40],\n",
       "       [20,  0],\n",
       "       [30, -5]])"
      ]
     },
     "execution_count": 103,
     "metadata": {},
     "output_type": "execute_result"
    }
   ],
   "source": [
    "n = np.array([[10,40],[20,0],[30,-5]]); n"
   ]
  },
  {
   "cell_type": "code",
   "execution_count": 104,
   "id": "62b5c140",
   "metadata": {},
   "outputs": [
    {
     "data": {
      "text/plain": [
       "array([[1, 2, 3],\n",
       "       [4, 5, 6],\n",
       "       [7, 8, 9]])"
      ]
     },
     "execution_count": 104,
     "metadata": {},
     "output_type": "execute_result"
    }
   ],
   "source": [
    "m"
   ]
  },
  {
   "cell_type": "code",
   "execution_count": 105,
   "id": "a04a66f6",
   "metadata": {},
   "outputs": [
    {
     "data": {
      "text/plain": [
       "array([[140,  25],\n",
       "       [320, 130],\n",
       "       [500, 235]])"
      ]
     },
     "execution_count": 105,
     "metadata": {},
     "output_type": "execute_result"
    }
   ],
   "source": [
    "m @ n"
   ]
  },
  {
   "cell_type": "code",
   "execution_count": 106,
   "id": "e22fe9bd",
   "metadata": {},
   "outputs": [
    {
     "data": {
      "text/plain": [
       "array([140, 320, 500])"
      ]
     },
     "execution_count": 106,
     "metadata": {},
     "output_type": "execute_result"
    }
   ],
   "source": [
    "(m * n[:,0]).sum(axis=1)"
   ]
  },
  {
   "cell_type": "code",
   "execution_count": 107,
   "id": "f886b279",
   "metadata": {},
   "outputs": [
    {
     "data": {
      "text/plain": [
       "array([ 25, 130, 235])"
      ]
     },
     "execution_count": 107,
     "metadata": {},
     "output_type": "execute_result"
    }
   ],
   "source": [
    "(m * n[:,1]).sum(axis=1)"
   ]
  },
  {
   "cell_type": "code",
   "execution_count": 108,
   "id": "c5cd573d",
   "metadata": {},
   "outputs": [
    {
     "data": {
      "application/vnd.jupyter.widget-view+json": {
       "model_id": "8fed14a4e348442f98e86e1e8d696666",
       "version_major": 2,
       "version_minor": 0
      },
      "text/plain": [
       "Epoch:   0%|          | 0/1 [00:00<?, ?it/s]"
      ]
     },
     "metadata": {},
     "output_type": "display_data"
    },
    {
     "data": {
      "application/vnd.jupyter.widget-view+json": {
       "model_id": "ded7b791075840a7b4969d25805cdccb",
       "version_major": 2,
       "version_minor": 0
      },
      "text/plain": [
       "  0%|          | 0/782 [00:00<?, ?it/s]"
      ]
     },
     "metadata": {},
     "output_type": "display_data"
    },
    {
     "name": "stdout",
     "output_type": "stream",
     "text": [
      "epoch      trn_loss   val_loss   accuracy   \n",
      "    0      0.324237   0.288185   0.9195    \n"
     ]
    },
    {
     "data": {
      "text/plain": [
       "[0.28818531478643417, 0.9195]"
      ]
     },
     "execution_count": 108,
     "metadata": {},
     "output_type": "execute_result"
    }
   ],
   "source": [
    "# Our code from above\n",
    "class LogReg(nn.Module):\n",
    "    def __init__(self):\n",
    "        super().__init__()\n",
    "        self.l1_w = get_weights(28*28, 10)  # Layer 1 weights\n",
    "        self.l1_b = get_weights(10)         # Layer 1 bias\n",
    "\n",
    "    def forward(self, x):\n",
    "        x = x.view(x.size(0), -1)\n",
    "        x = x @ self.l1_w + self.l1_b \n",
    "        return torch.log(softmax(x))\n",
    "\n",
    "net2 = LogReg().cuda()\n",
    "opt=optim.Adam(net2.parameters())\n",
    "\n",
    "fit(net2, md, n_epochs=1, crit=loss, opt=opt, metrics=metrics)"
   ]
  },
  {
   "cell_type": "code",
   "execution_count": 109,
   "id": "49e82c7b",
   "metadata": {},
   "outputs": [],
   "source": [
    "net2 = LogReg().cuda()\n",
    "loss=nn.NLLLoss()\n",
    "learning_rate = 1e-3\n",
    "optimizer=optim.Adam(net2.parameters(), lr=learning_rate)"
   ]
  },
  {
   "cell_type": "code",
   "execution_count": 110,
   "id": "617309ab",
   "metadata": {},
   "outputs": [],
   "source": [
    "dl = iter(md.trn_dl) # Data loader"
   ]
  },
  {
   "cell_type": "code",
   "execution_count": 111,
   "id": "afe3a5d4",
   "metadata": {},
   "outputs": [],
   "source": [
    "xt, yt = next(dl)\n",
    "y_pred = net2(Variable(xt).cuda())"
   ]
  },
  {
   "cell_type": "code",
   "execution_count": 112,
   "id": "673944ec",
   "metadata": {},
   "outputs": [
    {
     "name": "stdout",
     "output_type": "stream",
     "text": [
      "tensor(2.3354, grad_fn=<NllLossBackward0>)\n"
     ]
    }
   ],
   "source": [
    "l = loss(y_pred, Variable(yt).cuda())\n",
    "print(l)"
   ]
  },
  {
   "cell_type": "code",
   "execution_count": 113,
   "id": "218a4888",
   "metadata": {},
   "outputs": [
    {
     "data": {
      "text/plain": [
       "0.078125"
      ]
     },
     "execution_count": 113,
     "metadata": {},
     "output_type": "execute_result"
    }
   ],
   "source": [
    "np.mean(to_np(y_pred).argmax(axis=1) == to_np(yt))"
   ]
  },
  {
   "cell_type": "code",
   "execution_count": 114,
   "id": "502a3bde",
   "metadata": {},
   "outputs": [],
   "source": [
    "# Before the backward pass, use the optimizer object to zero all of the\n",
    "# gradients for the variables it will update (which are the learnable weights\n",
    "# of the model)\n",
    "optimizer.zero_grad()\n",
    "\n",
    "# Backward pass: compute gradient of the loss with respect to model parameters\n",
    "l.backward()\n",
    "\n",
    "# Calling the step function on an Optimizer makes an update to its parameters\n",
    "optimizer.step()"
   ]
  },
  {
   "cell_type": "code",
   "execution_count": 115,
   "id": "d8fc1e6d",
   "metadata": {},
   "outputs": [],
   "source": [
    "xt, yt = next(dl)\n",
    "y_pred = net2(Variable(xt).cuda())"
   ]
  },
  {
   "cell_type": "code",
   "execution_count": 116,
   "id": "f8fff72c",
   "metadata": {},
   "outputs": [
    {
     "name": "stdout",
     "output_type": "stream",
     "text": [
      "tensor(2.2158, grad_fn=<NllLossBackward0>)\n"
     ]
    }
   ],
   "source": [
    "l = loss(y_pred, Variable(yt).cuda())\n",
    "print(l)"
   ]
  },
  {
   "cell_type": "code",
   "execution_count": 117,
   "id": "739b59fb",
   "metadata": {},
   "outputs": [
    {
     "data": {
      "text/plain": [
       "0.28125"
      ]
     },
     "execution_count": 117,
     "metadata": {},
     "output_type": "execute_result"
    }
   ],
   "source": [
    "np.mean(to_np(y_pred).argmax(axis=1) == to_np(yt))"
   ]
  },
  {
   "cell_type": "code",
   "execution_count": 118,
   "id": "7425dffa",
   "metadata": {},
   "outputs": [
    {
     "name": "stdout",
     "output_type": "stream",
     "text": [
      "loss:  tensor(2.2305) \t accuracy:  0.265625\n",
      "loss:  tensor(1.2634) \t accuracy:  0.75\n",
      "loss:  tensor(0.9275) \t accuracy:  0.8125\n",
      "loss:  tensor(0.8442) \t accuracy:  0.78125\n",
      "loss:  tensor(0.7858) \t accuracy:  0.75\n",
      "loss:  tensor(0.5856) \t accuracy:  0.828125\n",
      "loss:  tensor(0.5992) \t accuracy:  0.828125\n",
      "loss:  tensor(0.4887) \t accuracy:  0.875\n",
      "loss:  tensor(0.4870) \t accuracy:  0.859375\n",
      "loss:  tensor(0.3408) \t accuracy:  0.9375\n"
     ]
    }
   ],
   "source": [
    "for t in range(100):\n",
    "    xt, yt = next(dl)\n",
    "    y_pred = net2(Variable(xt).cuda())\n",
    "    l = loss(y_pred, Variable(yt).cuda())\n",
    "\n",
    "    if t % 10 == 0:\n",
    "        accuracy = np.mean(to_np(y_pred).argmax(axis=1) == to_np(yt))\n",
    "        print(\"loss: \", l.data, \"\\t accuracy: \", accuracy)\n",
    "\n",
    "    optimizer.zero_grad()\n",
    "    l.backward()\n",
    "    optimizer.step()"
   ]
  },
  {
   "cell_type": "code",
   "execution_count": 119,
   "id": "3fa4ca9c",
   "metadata": {},
   "outputs": [],
   "source": [
    "def score(x, y):\n",
    "    y_pred = to_np(net2(V(x)))\n",
    "    return np.sum(y_pred.argmax(axis=1) == to_np(y))/len(y_pred)"
   ]
  },
  {
   "cell_type": "code",
   "execution_count": 120,
   "id": "93f550e9",
   "metadata": {},
   "outputs": [
    {
     "name": "stdout",
     "output_type": "stream",
     "text": [
      "<class 'generator'>\n",
      "<class 'list'>\n"
     ]
    }
   ],
   "source": [
    "print(type(dl))\n",
    "print(type(next(dl)))"
   ]
  },
  {
   "cell_type": "code",
   "execution_count": 121,
   "id": "7eb3db3f",
   "metadata": {},
   "outputs": [
    {
     "name": "stdout",
     "output_type": "stream",
     "text": [
      "0.46875\n"
     ]
    }
   ],
   "source": [
    "# note: the original cell failed, with\n",
    "# \"TypeError: object of type 'generator' has no len()\"\n",
    "#     as workaround, I replaced\n",
    "#     len(dl) with len(next(dl))\n",
    "#     and len(val_dl) with len(next(val_dl))\n",
    "#     not optimal, since it introduces overhead\n",
    "net2 = LogReg().cuda()\n",
    "loss=nn.NLLLoss()\n",
    "learning_rate = 1e-2\n",
    "optimizer=optim.SGD(net2.parameters(), lr=learning_rate)\n",
    "\n",
    "for epoch in range(1):\n",
    "    losses=[]\n",
    "    dl = iter(md.trn_dl)\n",
    "    # for t in range(len(dl)):\n",
    "    for t in range(len(next(dl))):\n",
    "        # Forward pass: compute predicted y and loss by passing x to the model.\n",
    "        xt, yt = next(dl)\n",
    "        y_pred = net2(V(xt))\n",
    "        l = loss(y_pred, V(yt))\n",
    "        losses.append(l)\n",
    "\n",
    "        # Before the backward pass, use the optimizer object to zero all of the\n",
    "        # gradients for the variables it will update (which are the learnable weights of the model)\n",
    "        optimizer.zero_grad()\n",
    "\n",
    "        # Backward pass: compute gradient of the loss with respect to model parameters\n",
    "        l.backward()\n",
    "\n",
    "        # Calling the step function on an Optimizer makes an update to its parameters\n",
    "        optimizer.step()\n",
    "    \n",
    "    val_dl = iter(md.val_dl)\n",
    "    # val_scores = [score(*next(val_dl)) for i in range(len(val_dl))]\n",
    "    val_scores = [score(*next(val_dl)) for i in range(len(next(val_dl)))]\n",
    "    print(np.mean(val_scores))"
   ]
  },
  {
   "cell_type": "code",
   "execution_count": 122,
   "id": "c55a703e",
   "metadata": {},
   "outputs": [
    {
     "name": "stdout",
     "output_type": "stream",
     "text": [
      "0.6953125\n",
      "0.6640625\n",
      "0.7421875\n",
      "0.7578125\n",
      "0.7734375\n",
      "0.734375\n",
      "0.75\n",
      "0.8125\n",
      "0.8125\n",
      "0.7890625\n",
      "0.8203125\n",
      "0.78125\n",
      "0.7890625\n",
      "0.8203125\n",
      "0.8203125\n",
      "0.828125\n",
      "0.8359375\n",
      "0.8359375\n",
      "0.84375\n",
      "0.828125\n"
     ]
    }
   ],
   "source": [
    "# note: as before the original cell failed, with \n",
    "# \"TypeError: object of type 'generator' has no len()\"\n",
    "#     as workaround, I replaced\n",
    "#     len(dl) with len(next(dl))\n",
    "#     and len(val_dl) with len(next(val_dl))\n",
    "#     not optimal, since it introduces overhead\n",
    "net2 = LogReg().cuda()\n",
    "loss_fn=nn.NLLLoss()\n",
    "lr = 1e-2\n",
    "w,b = net2.l1_w,net2.l1_b\n",
    "\n",
    "for epoch in range(20):\n",
    "    losses=[]\n",
    "    dl = iter(md.trn_dl)\n",
    "    for t in range(len(next(dl))):\n",
    "        xt, yt = next(dl)\n",
    "        y_pred = net2(V(xt))\n",
    "        l = loss(y_pred, Variable(yt).cuda())\n",
    "        losses.append(loss)\n",
    "\n",
    "        # Backward pass: compute gradient of the loss with respect to model parameters\n",
    "        l.backward()\n",
    "        w.data -= w.grad.data * lr\n",
    "        b.data -= b.grad.data * lr\n",
    "        \n",
    "        w.grad.data.zero_()\n",
    "        b.grad.data.zero_()   \n",
    "\n",
    "    val_dl = iter(md.val_dl)\n",
    "    val_scores = [score(*next(val_dl)) for i in range(len(next(val_dl)))]\n",
    "    print(np.mean(val_scores))"
   ]
  }
 ],
 "metadata": {
  "kernelspec": {
   "display_name": "Python 3 (ipykernel)",
   "language": "python",
   "name": "python3"
  },
  "language_info": {
   "codemirror_mode": {
    "name": "ipython",
    "version": 3
   },
   "file_extension": ".py",
   "mimetype": "text/x-python",
   "name": "python",
   "nbconvert_exporter": "python",
   "pygments_lexer": "ipython3",
   "version": "3.9.7"
  }
 },
 "nbformat": 4,
 "nbformat_minor": 5
}
